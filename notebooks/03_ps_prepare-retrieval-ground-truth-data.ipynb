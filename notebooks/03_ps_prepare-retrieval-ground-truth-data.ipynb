{
 "cells": [
  {
   "cell_type": "markdown",
   "id": "512683ef",
   "metadata": {},
   "source": [
    "# Generating ground truth for the problem\n",
    "\n",
    "For each question - anwser / terms of condition point we shall generate 5 relevant questions. We will use LLMs to generate the questions."
   ]
  },
  {
   "cell_type": "code",
   "execution_count": 24,
   "id": "7ba3282a-6099-44b3-81c6-ba4b73d80e7b",
   "metadata": {},
   "outputs": [],
   "source": [
    "import requests \n",
    "import json\n",
    "\n",
    "with open('../data/documents_olx_2024_08_25.json', 'r',  encoding='utf8') as f_in:\n",
    "     documents = json.load(f_in)"
   ]
  },
  {
   "cell_type": "code",
   "execution_count": 25,
   "id": "9880aca9-ae97-42f5-9aa5-37bb46448841",
   "metadata": {},
   "outputs": [],
   "source": [
    "import hashlib\n",
    "\n",
    "def generate_document_id(doc):\n",
    "    combined = f\"{doc['question']}-{doc['text'][:10]}\"\n",
    "    hash_object = hashlib.md5(combined.encode())\n",
    "    hash_hex = hash_object.hexdigest()\n",
    "    document_id = hash_hex[:8]\n",
    "    return document_id"
   ]
  },
  {
   "cell_type": "code",
   "execution_count": 26,
   "id": "d48cb6be",
   "metadata": {},
   "outputs": [],
   "source": [
    "documents = [item['documents'] for item in documents]\n",
    "documents = [item for sublist in documents for item in sublist]"
   ]
  },
  {
   "cell_type": "code",
   "execution_count": 27,
   "id": "66719b38-04f3-41a8-bdd8-f33f04fe9367",
   "metadata": {},
   "outputs": [],
   "source": [
    "for doc in documents:\n",
    "    doc['id'] = generate_document_id(doc)"
   ]
  },
  {
   "cell_type": "code",
   "execution_count": 29,
   "id": "d4672632-acc2-4c1c-96b4-d30f24598aa1",
   "metadata": {},
   "outputs": [
    {
     "data": {
      "text/plain": [
       "90"
      ]
     },
     "execution_count": 29,
     "metadata": {},
     "output_type": "execute_result"
    }
   ],
   "source": [
    "len(documents)"
   ]
  },
  {
   "cell_type": "code",
   "execution_count": 30,
   "id": "470b703c-29d6-4ca8-a68e-4c461b3e7a90",
   "metadata": {},
   "outputs": [],
   "source": [
    "from collections import defaultdict"
   ]
  },
  {
   "cell_type": "code",
   "execution_count": 31,
   "id": "410f08db-2302-4c50-926c-511037b46c90",
   "metadata": {},
   "outputs": [],
   "source": [
    "hashes = defaultdict(list)\n",
    "\n",
    "for doc in documents:\n",
    "    doc_id = doc['id']\n",
    "    hashes[doc_id].append(doc)"
   ]
  },
  {
   "cell_type": "code",
   "execution_count": 32,
   "id": "47c69c01-e952-4818-a307-94ea224ca423",
   "metadata": {},
   "outputs": [
    {
     "data": {
      "text/plain": [
       "(90, 90)"
      ]
     },
     "execution_count": 32,
     "metadata": {},
     "output_type": "execute_result"
    }
   ],
   "source": [
    "len(hashes), len(documents)"
   ]
  },
  {
   "cell_type": "code",
   "execution_count": 33,
   "id": "c3e495f9-fdac-436f-88e9-44ae68844ee3",
   "metadata": {},
   "outputs": [],
   "source": [
    "for k, values in hashes.items():\n",
    "    if len(values) > 1:\n",
    "        print(k, len(values))"
   ]
  },
  {
   "cell_type": "code",
   "execution_count": 34,
   "id": "4d25e980-8a04-4186-94ef-c357bdc1b255",
   "metadata": {},
   "outputs": [],
   "source": [
    "import json"
   ]
  },
  {
   "cell_type": "code",
   "execution_count": 36,
   "id": "686a488a-67af-4f21-8538-2180dc085fa2",
   "metadata": {},
   "outputs": [],
   "source": [
    "with open('../data/documents-olx-2024_08_25-with-ids.json', 'wt', encoding='utf8') as f_out:\n",
    "    json.dump(documents, f_out, indent=2, ensure_ascii=False)\n",
    "    "
   ]
  },
  {
   "cell_type": "code",
   "execution_count": 37,
   "id": "c567515e-a923-487f-9b4d-9f4ce370e2ca",
   "metadata": {},
   "outputs": [
    {
     "name": "stdout",
     "output_type": "stream",
     "text": [
      "[\n",
      "  {\n",
      "    \"text\": \"Krok 1. Załóż konto na OLX poprzez:\\nstronę internetową OLX — kliknij Twoje konto → Załóż konto lub kliknij tutaj.\\naplikację mobilną OLX — kliknij Konto → Zaloguj się → Załóż konto.\\nJeśli grafika jest nieczytelna, kliknij prawy przycisk myszy i wybierz „Otwórz grafikę w nowej karcie\\\".\\nKrok 2. Wpisz swój adres e-mail.\\nKrok 3. Wpisz hasło, które ma minimum 8 znaków, w tym przynajmniej jedną dużą i małą literę, jedną cyfrę oraz znak specjalny.\\nKrok 4. Kliknij Zarejestruj się.\\nKrok 5. Przejdź do skrzynki mailowej i w wiadomości od OLX kliknij przycisk Aktywuj konto.\\nJeśli nie masz linku aktywacyjnego — napisz do nas.\\nNa jednym koncie OLX nie można sprzedawać przedmiotów prywatnych i przedmiotów w ramach prowadzenia firmy. Do każdego typu sprzedaży (prywatnie, jako firma) wymagane jest oddzielne konto.\\nKonto na OLX możesz założyć za pomocą konta na Facebooku. Wystarczy, że klikniesz tutaj. Następnie wybierz przycisk Kontynuuj z Facebook i postępuj zgodnie z wyświetlanymi wskazówkami. W ten sposób utworzymy konto w OLX na adresie e-mail powiązanym z Twoim kontem Facebook. Przed wyborem „Kontynuuj z Facebookiem\\\" sprawdź, czy jesteś zalogowany/zalogowana na danym urządzeniu do konta Facebook.\",\n",
      "    \"section\": \"Konto\",\n",
      "    \"question\": \"Jak założyć konto?\",\n",
      "    \"id\": \"2ddb5f16\"\n",
      "  },\n",
      "  {\n",
      "    \"text\": \"Nie mam SMS z kodem do weryfikacji konta\\nGdy będziesz dodawać pierwsze ogłoszenie na OLX, konieczne będzie zweryfikowanie Twojego konta za pomocą numeru telefonu.\\nKrok 1. Zaloguj się na swoje konto OLX.\\nKrok 2. Kliknij przycisk Dodaj ogłoszenie.\\nKrok 3. Wpisz w wyznaczone pole swój numer telefonu — po chwili otrzymasz SMS z kodem weryfikacyjnym.\\nJeśli grafika jest nieczytelna, kliknij prawy przycisk myszy i wybierz \\\"Otwórz grafikę w nowej karcie\\\".\\nKrok 4. Wpisz kod z wiadomości SMS i kliknij przycisk Weryfikuj.\\nNie mam SMS z kodem do weryfikacji konta\\nWiadomość SMS z kodem weryfikacyjnym zazwyczaj dociera w ciągu minuty. Może zdarzyć się, że wystąpi małe opóźnienie i poczekasz na kod do pół godziny. Jeżeli nie otrzymasz SMS w tym czasie, skontaktuj się ze swoim operatorem komórkowym i sprawdź, czy nie masz aktywnej blokady wiadomości premium oraz wiadomości reklamowych. Blokada tego typu może zablokować wiadomość SMS, którą do Ciebie wysłaliśmy. Nie poniesiesz kosztów za SMS, który otrzymasz od OLX.\",\n",
      "    \"section\": \"Konto\",\n"
     ]
    }
   ],
   "source": [
    "!head ../data/documents-olx-2024_08_25-with-ids.json"
   ]
  },
  {
   "cell_type": "code",
   "execution_count": 72,
   "id": "1c062325-5608-4da6-80bf-b9ac371bc17f",
   "metadata": {},
   "outputs": [],
   "source": [
    "prompt_template = \"\"\"\n",
    "Jesteś pracownikiem działu obsługi klienta w firmie OLX będącej platformą ogłoszeniową.\n",
    "Otrzymałeś zadanie aby do kazdego ZAGADNIENIE z FAQ lub regulaminu stworzyć 5 pytań, które \n",
    "mógłby zadać klient platformy OLX.\n",
    "Każde ZAGADNIENIE powinno zawierać odpowiedź na pytanie. Pytania powinny być kompletne i nie za krótkie. Jeśli to możliwe, użyj jak najmniej słów z oryginalnego ZAGADNIENIE i ODPOWIEDŹ.\n",
    "\n",
    "Pytanie:\n",
    "\n",
    "SEKCJA: {section}\n",
    "ZAGADNIENIE: {question}\n",
    "ODPOWIEDŹ: {text}\n",
    "\n",
    "Odpowiedź powinna być w parsowalnym formacie JSON. Nie używaj bloków kodu:\n",
    "\n",
    "[\"pytanie1\", \"pytanie2\", ..., \"pytanie\"]\n",
    "\"\"\".strip()"
   ]
  },
  {
   "cell_type": "code",
   "execution_count": 73,
   "id": "51b8f259-eed8-4a50-b50c-2186fb154853",
   "metadata": {},
   "outputs": [],
   "source": [
    "from openai import OpenAI\n",
    "client = OpenAI()"
   ]
  },
  {
   "cell_type": "code",
   "execution_count": 74,
   "id": "534ac1ae-b5e0-43a7-b8ad-103fd56ced54",
   "metadata": {},
   "outputs": [],
   "source": [
    "def generate_questions(doc):\n",
    "    prompt = prompt_template.format(**doc)\n",
    "\n",
    "    response = client.chat.completions.create(\n",
    "        model='gpt-4o',\n",
    "        messages=[{\"role\": \"user\", \"content\": prompt}]\n",
    "    )\n",
    "\n",
    "    json_response = response.choices[0].message.content\n",
    "    return json_response"
   ]
  },
  {
   "cell_type": "code",
   "execution_count": 75,
   "id": "3b62f8ac",
   "metadata": {},
   "outputs": [],
   "source": [
    "questions = generate_questions(documents[0])"
   ]
  },
  {
   "cell_type": "code",
   "execution_count": 76,
   "id": "8bbbda8b",
   "metadata": {},
   "outputs": [
    {
     "data": {
      "text/plain": [
       "'[\"Jak mogę założyć konto na stronie internetowej OLX?\", \"Jak założyć konto na OLX za pomocą aplikacji mobilnej?\", \"Jakie wymagania musi spełniać hasło przy tworzeniu konta na OLX?\", \"Co zrobić, jeśli nie mogę znaleźć linku aktywacyjnego po rejestracji na OLX?\", \"Czy mogę używać jednego konta OLX do sprzedaży prywatnej i firmowej?\"]'"
      ]
     },
     "execution_count": 76,
     "metadata": {},
     "output_type": "execute_result"
    }
   ],
   "source": [
    "questions\n"
   ]
  },
  {
   "cell_type": "code",
   "execution_count": 77,
   "id": "eb2353f8-411b-4ab9-a4c2-0d158495491e",
   "metadata": {},
   "outputs": [],
   "source": [
    "from tqdm.auto import tqdm"
   ]
  },
  {
   "cell_type": "code",
   "execution_count": 78,
   "id": "25a48077-18c0-4d31-82ab-00a44d426279",
   "metadata": {},
   "outputs": [],
   "source": [
    "results = {}"
   ]
  },
  {
   "cell_type": "code",
   "execution_count": 79,
   "id": "742f4b7c-7632-4475-b6df-b3c02d343287",
   "metadata": {},
   "outputs": [
    {
     "name": "stderr",
     "output_type": "stream",
     "text": [
      "100%|██████████| 90/90 [03:07<00:00,  2.08s/it]\n"
     ]
    }
   ],
   "source": [
    "for doc in tqdm(documents): \n",
    "    doc_id = doc['id']\n",
    "    if doc_id in results:\n",
    "        continue\n",
    "\n",
    "    questions = generate_questions(doc)\n",
    "    results[doc_id] = questions"
   ]
  },
  {
   "cell_type": "code",
   "execution_count": 82,
   "id": "32fd500a",
   "metadata": {},
   "outputs": [],
   "source": [
    "results"
   ]
  },
  {
   "cell_type": "code",
   "execution_count": 58,
   "id": "031ecc50-a9a3-4508-8149-cf716e045d20",
   "metadata": {},
   "outputs": [],
   "source": [
    "import pickle"
   ]
  },
  {
   "cell_type": "code",
   "execution_count": 81,
   "id": "b50430c5",
   "metadata": {},
   "outputs": [],
   "source": [
    "with open('../data/results.bin', 'wb') as f_out:\n",
    "    pickle.dump(results, f_out)"
   ]
  },
  {
   "cell_type": "code",
   "execution_count": 83,
   "id": "de64d355-a4c8-4633-b179-952bb38923c5",
   "metadata": {},
   "outputs": [],
   "source": [
    "with open('../data/results.bin', 'rb') as f_in:\n",
    "    results = pickle.load(f_in)"
   ]
  },
  {
   "cell_type": "code",
   "execution_count": 84,
   "id": "2d5cd8f8-ddfd-4802-908b-504722511a04",
   "metadata": {},
   "outputs": [
    {
     "data": {
      "text/plain": [
       "'[\"Na jakiej podstawie OLX podejmuje decyzje o blokadzie lub zawieszeniu treści lub Konta?\",\\n \"Jakie polityki i procedury moderacyjne są stosowane przez Grupę OLX?\",\\n \"W jaki sposób OLX identyfikuje treści lub działania naruszające Regulamin?\",\\n \"Jakie są główne cele opracowanych przez OLX polityk i procedur moderacyjnych?\",\\n \"Dlaczego ważne jest przestrzeganie regulaminu i przepisów prawa przez użytkowników OLX?\"]'"
      ]
     },
     "execution_count": 84,
     "metadata": {},
     "output_type": "execute_result"
    }
   ],
   "source": [
    "results['653d264c']"
   ]
  },
  {
   "cell_type": "code",
   "execution_count": 88,
   "id": "d265559b-de13-45a3-ba4d-b5f84a3c070a",
   "metadata": {},
   "outputs": [],
   "source": [
    "import re \n",
    "parsed_resulst = {}\n",
    "\n",
    "for doc_id, json_questions in results.items():\n",
    "    json_questions = re.sub(r'```json', '', json_questions)\n",
    "    json_questions = re.sub(r'```', '', json_questions)\n",
    "    parsed_resulst[doc_id] = json.loads(json_questions)"
   ]
  },
  {
   "cell_type": "code",
   "execution_count": null,
   "id": "e674e6d7",
   "metadata": {},
   "outputs": [],
   "source": []
  },
  {
   "cell_type": "code",
   "execution_count": 89,
   "id": "4ac841c1",
   "metadata": {},
   "outputs": [
    {
     "data": {
      "text/plain": [
       "{'2ddb5f16': ['Jak mogę założyć konto na OLX przez stronę internetową?',\n",
       "  'Jakie są kroki potrzebne do założenia konta w aplikacji mobilnej OLX?',\n",
       "  'Jakie wymagania musi spełniać hasło podczas zakładania konta na OLX?',\n",
       "  'Co zrobić, jeśli nie otrzymałem linku aktywacyjnego po rejestracji na OLX?',\n",
       "  'Czy mogę używać jednego konta OLX do sprzedaży prywatnej i firmowej?'],\n",
       " '943a92e0': ['Jak mam zweryfikować moje konto OLX za pomocą numeru telefonu?',\n",
       "  'Co zrobić, jeśli nie otrzymałem SMS z kodem weryfikacyjnym przy dodawaniu pierwszego ogłoszenia na OLX?',\n",
       "  'Jak długo trzeba czekać na SMS z kodem weryfikacyjnym od OLX?',\n",
       "  'Czy mogę jakoś sprawdzić, dlaczego nie dostaję kodu weryfikacyjnego SMS od OLX?',\n",
       "  'Czy muszę zapłacić za SMS z kodem weryfikacyjnym od OLX?'],\n",
       " '9e41cc6b': ['Dlaczego nie mogę zweryfikować mojego nowego konta na OLX za pomocą numeru telefonu?',\n",
       "  'Co oznacza komunikat informujący, że numer telefonu został już użyty na OLX?',\n",
       "  'Jak mogę sprawdzić, czy mój numer telefonu jest przypisany do innego konta OLX?',\n",
       "  'Co mam zrobić, jeśli nie chcę już korzystać z konta powiązanego z moim numerem telefonu?',\n",
       "  'Ile czasu zajmie zwolnienie mojego numeru telefonu do ponownego użycia po usunięciu konta na OLX?'],\n",
       " '7e9de748': ['Czy moje konto OLX nie istnieje, jeśli mój adres e-mail nie został znaleziony?',\n",
       "  'Co zrobić, jeśli pojawia się komunikat, że adres e-mail nie został odnaleziony?',\n",
       "  'Dlaczego system OLX nie rozpoznaje mojego adresu e-mail podczas logowania?',\n",
       "  'Czy klawisz Caps Lock może wpływać na problem z logowaniem do mojego konta OLX?',\n",
       "  'Jakie kroki powinienem podjąć, gdy nie mogę zalogować się na OLX z użyciem mojego adresu e-mail?'],\n",
       " '469cc1f8': ['Co mogę zrobić, jeśli pojawia się komunikat o nieprawidłowym loginie lub hasle podczas próby logowania do mojego konta na OLX?',\n",
       "  'Czy mogę sprawdzić, czy klawisz Caps Lock jest wyłączony, jeśli nie mogę się zalogować do mojego konta na OLX?',\n",
       "  'Jakie kroki powinienem podjąć, jeśli moje urządzenie automatycznie podstawia starsze dane do logowania na OLX?',\n",
       "  'Jak mogę wyczyścić pamięć podręczną, historię oraz pliki cookie z przeglądarki, aby usunąć nieaktualne dane do logowania na OLX?',\n",
       "  'Co powinienem zrobić, jeśli nie jestem pewny, czy wpisuję prawidłowe hasło do mojego konta na OLX?'],\n",
       " '0b78fb57': ['Dlaczego pojawia się problem z zalogowaniem do mojego konta OLX?',\n",
       "  'Co zrobić, gdy napotykam błąd podczas próby zalogowania się do aplikacji OLX?',\n",
       "  'Jakie kroki należy podjąć, gdy nie mogę zalogować się do swojego konta na OLX?',\n",
       "  'Czy odinstalowanie i ponowne zainstalowanie aplikacji OLX rozwiąże problem z logowaniem?',\n",
       "  'Jak poprawnie usunąć aplikację OLX, aby rozwiązać problemy z logowaniem?'],\n",
       " '4dcf8b35': ['Jak mogę całkowicie usunąć moje konto OLX?',\n",
       "  'Czy po usunięciu konta OLX można je odzyskać?',\n",
       "  'Co się stanie z moimi danymi po usunięciu konta OLX?',\n",
       "  'Jakie kroki muszę wykonać, aby usunąć konto OLX przez stronę internetową?',\n",
       "  'Czy mogę usunąć konto OLX używając aplikacji mobilnej?'],\n",
       " 'e8caa77b': ['Jak mogę zmienić adres e-mail przypisany do mojego konta OLX?',\n",
       "  'Co mam zrobić, aby zaktualizować adres e-mail na moim koncie OLX przez przeglądarkę internetową?',\n",
       "  'Które kroki są wymagane do zmiany adresu e-mail w aplikacji mobilnej OLX?',\n",
       "  'Jakie czynności muszę podjąć, aby zatwierdzić nowy adres e-mail na OLX?',\n",
       "  'Gdzie znajdę opcję zmiany adresu e-mail po zalogowaniu się na moje konto OLX?'],\n",
       " '6c146627': ['Jak mogę zaktualizować moje dane kontaktowe na OLX?',\n",
       "  'Co muszę zrobić, aby zmienić swoje dane kontaktowe na koncie OLX przy użyciu komputera?',\n",
       "  'Jakie kroki muszę podjąć, aby edytować podstawowe informacje na moim profilu OLX?',\n",
       "  'Które informacje można zmienić w zakładce Profil na koncie OLX?',\n",
       "  'Jeśli zmienię dane kontaktowe, czy będą one widoczne w moich już aktywnych ogłoszeniach na OLX?'],\n",
       " '342037c3': ['Jakie kroki muszę podjąć, aby dodać ogłoszenie na OLX?',\n",
       "  'Czy mogę dodać ogłoszenie na OLX poprzez aplikację mobilną, a jeśli tak, jak to zrobić?',\n",
       "  'Jakie informacje muszę podać, aby uzupełnić szczegóły ogłoszenia na OLX?',\n",
       "  'Czy muszę podać cenę przedmiotu, który chcę sprzedać na OLX, oraz jakie są możliwe opcje w tej kwestii?',\n",
       "  'Jakie są wytyczne dotyczące dodawania zdjęć do ogłoszenia na OLX?'],\n",
       " 'be4ae5c8': ['Jak mogę określić właściwą kategorię dla mojego ogłoszenia na OLX?',\n",
       "  'Którą kategorię powinnam wybrać, aby zamieścić ogłoszenie o sprzedaży antyków na OLX?',\n",
       "  'Do której kategorii należy umieścić ogłoszenie o sprzedaży mebli ogrodowych na OLX?',\n",
       "  'Jaką kategorię powinienem wybrać na OLX, jeśli chcę zaoferować usługi serwisowe dla firm?',\n",
       "  'Do jakiej kategorii na OLX powinno trafić ogłoszenie o domu na wynajem?'],\n",
       " '7c7a4947': ['Jak można zmienić parametry ogłoszenia na OLX?',\n",
       "  'Czy mogę edytować kategorię mojego ogłoszenia na OLX?',\n",
       "  'Jakie elementy ogłoszenia dotyczącego pojazdów nie mogą być edytowane na OLX?',\n",
       "  'Jak zmienić lokalizację w ogłoszeniu w kategorii Nieruchomości na OLX?',\n",
       "  'Jakie kroki należy wykonać, aby edytować ogłoszenie na OLX za pomocą aplikacji mobilnej?'],\n",
       " '790a7ddb': ['Ile dni jest aktywne ogłoszenie od momentu publikacji na OLX?',\n",
       "  'Co się stanie z moim ogłoszeniem, gdy wygaśnie po 30 dniach?',\n",
       "  'Jak mogę automatycznie przedłużyć moje ogłoszenie na OLX?',\n",
       "  'Co należy zrobić, aby ręcznie przedłużyć ogłoszenie na kolejne 30 dni?',\n",
       "  'Czy istnieje możliwość przedłużenia wielu wygasłych ogłoszeń jednym kliknięciem na OLX?'],\n",
       " '1106b1dc': ['Jak mogę zakończyć swoje ogłoszenie na OLX?',\n",
       "  'Co muszę zrobić, aby zakończyć ogłoszenie przez stronę internetową OLX?',\n",
       "  'Jak zakończyć ogłoszenie na OLX za pomocą aplikacji mobilnej?',\n",
       "  'Czy mogę przywrócić zakończone ogłoszenie na OLX i jak to zrobić?',\n",
       "  'W jaki sposób trwale usunąć ogłoszenie z OLX i co się stanie po jego usunięciu?'],\n",
       " 'bdf287a5': ['Czy mogę zmienić kategorię mojego ogłoszenia po jego aktywacji?',\n",
       "  'Co zrobić, jeśli moja oferta jest w złej kategorii?',\n",
       "  'Jak mogę zweryfikować odpowiednią kategorię dla mojego ogłoszenia?',\n",
       "  'Kogo mogę zapytać, jeśli nie wiem, którą kategorię wybrać dla mojego ogłoszenia?',\n",
       "  'Gdzie znajdę formularz kontaktowy, jeśli chcę zmienić kategorię ogłoszenia?'],\n",
       " '2e80fa3d': ['Jak przebiega proces płatności za przedmiot z funkcją Przesyłki OLX?',\n",
       "  'Jakie są kroki do zapłaty za przedmiot z Przesyłką OLX?',\n",
       "  'Jaki jest pełny proces zakupu przedmiotu z Przesyłką OLX?',\n",
       "  'Jak można zapłacić za przedmiot korzystając z opcji Przesyłka OLX?',\n",
       "  'Jakie są dostępne metody płatności za przedmiot z Przesyłką OLX?'],\n",
       " 'd132587e': ['Gdzie mogę znaleźć kod do odbioru paczki wysyłanej za pośrednictwem Orlen Paczki?',\n",
       "  'Czy dostałem SMS z kodem do odbioru paczki wysyłanej poprzez Pocztę Polską?',\n",
       "  'Co zrobić, jeśli podałem błędny numer telefonu podczas zamawiania paczki InPost?',\n",
       "  'Jak sprawdzić czy mam SMS z kodem odbioru, jeżeli mam zablokowane SMS Premium?',\n",
       "  'Jakie kroki powinienem podjąć, jeśli nie otrzymałem kodu odbioru dla paczki InPost?'],\n",
       " 'c95af011': ['Jakie elementy powinno zawierać atrakcyjne zdjęcie na OLX, aby przyciągnąć uwagę potencjalnych kupujących?',\n",
       "  'W jaki sposób najlepiej uchwycić szczegóły oferowanego przedmiotu, aby zdjęcia były bardziej atrakcyjne dla oglądających?',\n",
       "  'Dlaczego stabilne trzymanie aparatu oraz odpowiednie wyostrzenie kadru są kluczowe podczas robienia zdjęć na OLX?',\n",
       "  'Jakie znaczenie ma odpowiednie oświetlenie przy fotografowaniu przedmiotu na potrzeby ogłoszenia na OLX?',\n",
       "  'Czy istnieją wskazówki dotyczące tła, które mogą pomóc w lepszym wyeksponowaniu sprzedawanego przedmiotu na zdjęciu?',\n",
       "  'Na co zwrócić uwagę przy kadrowaniu zdjęcia, aby przedmiot był dobrze widoczny na OLX?',\n",
       "  'Dlaczego ważne jest, aby na zdjęciu nie znajdowały się niepotrzebne obiekty mogące odwracać uwagę od sprzedawanego przedmiotu?',\n",
       "  'Jakie są rekomendacje dotyczące liczby zdjęć i ich perspektyw przy wystawianiu ogłoszenia na OLX?',\n",
       "  'Czy OLX zezwala na używanie zdjęć pobranych z internetu lub od producentów i dlaczego?',\n",
       "  'Jakie dokładne wskazówki można zastosować, aby główne zdjęcie oferowanego przedmiotu było najbardziej efektywne na OLX?'],\n",
       " '38edb241': ['Jak mogę udostępnić lokalizację podczas sprzedaży przedmiotu na OLX?',\n",
       "  'Czy mogę udostępnić swoją lokalizację kupującemu na OLX?',\n",
       "  'Jakie kroki muszę wykonać, aby udostępnić lokalizację w aplikacji OLX?',\n",
       "  'Czy udostępnianie lokalizacji jest możliwe z poziomu aplikacji OLX?',\n",
       "  'Gdzie znajdę opcję udostępniania lokalizacji w aplikacji mobilnej OLX?'],\n",
       " 'e55a6ace': ['Jak mogę dodać adres e-mail OLX do zaufanych w Gmail?',\n",
       "  'Co należy zrobić, jeśli wiadomości od OLX trafiają do folderu Spam na Gmail?',\n",
       "  'Jakie kroki należy podjąć, aby dodać noreply@olx.pl do listy kontaktów w Gmail?',\n",
       "  'Gdzie znajdę opcję dodania no-reply@olx.pl do zaufanych kontaktów w Gmail?',\n",
       "  'Jak mogę sprawić, by e-maile od support@olx.pl nie trafiały więcej do folderu Spam na Gmail?'],\n",
       " '953c5400': ['Jak mogę dodać adresy e-mail OLX do zaufanych na Onet, aby wiadomości nie trafiały do spamu?',\n",
       "  'Jakie kroki muszę podjąć, żeby dodać adresy OLX do zaufanych maili w mojej skrzynce Onet?',\n",
       "  'Gdzie w ustawieniach poczty Onet mogę dodać adresy e-mail OLX do zaufanych?',\n",
       "  'Czy możecie mi wyjaśnić, jak dodać noreply@olx.pl do zaufanych adresów w poczcie Onet?',\n",
       "  'Jakie adresy e-mail OLX powinienem wprowadzić, aby dodać je do zaufanych na Onet?'],\n",
       " 'b7c49ccc': ['Jak mogę zalogować się do swojej skrzynki pocztowej na Interia?',\n",
       "  'Gdzie znajdują się ustawienia w mojej skrzynce pocztowej Interia?',\n",
       "  'Jak mogę dostać się do sekcji Antyspam w ustawieniach na Interia?',\n",
       "  'Jakie adresy e-mail powinienem dodać do listy zaufanych w mojej skrzynce Interia?',\n",
       "  'Co muszę zrobić po wpisaniu adresów e-mail do listy zaufanych na Interia?'],\n",
       " 'b6427a45': ['Jak mogę dodać adres e-mail OLX do zaufanych w mojej skrzynce pocztowej na WP?',\n",
       "  'Gdzie mogę znaleźć opcje filtrów w mojej skrzynce pocztowej na WP?',\n",
       "  'Jakie adresy e-mail OLX muszę dodać do białej listy na WP, aby oznaczyć je jako zaufane?',\n",
       "  'Co powinienem zaznaczyć w ustawieniach filtrów na WP, żeby wiadomości z OLX nie były oznaczane jako spam?',\n",
       "  'Jak zapisać nowe filtry w skrzynce pocztowej na WP po dodaniu adresów e-mail OLX do zaufanych?'],\n",
       " '60a68db3': ['Jak mogę dodać adres e-mail OLX do zaufanych adresów w mojej poczcie na o2.pl?',\n",
       "  'Gdzie znajdę opcje ustawień w mojej skrzynce pocztowej o2?\\n',\n",
       "  'Jakie kroki muszę wykonać, aby dodać nowy filtr w poczcie o2?',\n",
       "  'Które adresy e-mail OLX powinienem dodać do zaufanych na o2.pl?',\n",
       "  'Jakie opcje muszę zaznaczyć, aby wiadomości od OLX nie trafiały do spamu na o2.pl?\\n'],\n",
       " 'ad5b87dc': ['Jak mogę zalogować się do mojej skrzynki pocztowej Apple Mail, aby dodać adres e-mail OLX do zaufanych?',\n",
       "  'Gdzie znajdują się opcje ustawień zasad w Apple Mail, aby dodać adres e-mail OLX do zaufanych?',\n",
       "  'Jak dodać nową zasadę w Apple Mail, aby wiadomości od OLX były uznawane za zaufane?',\n",
       "  'Jakie specificzne adresy e-mail OLX powinny być dodane do zasad zaufanych w Apple Mail?',\n",
       "  'Jak skonfigurować akcję w Apple Mail, aby wiadomości OLX trafiały bezpośrednio do skrzynki odbiorczej?'],\n",
       " 'ce9623ca': ['Jak sprawdzić, czy moje urządzenie spełnia minimalne wymagania oprogramowania dla aplikacji OLX?',\n",
       "  'Co powinienem zrobić, jeśli aplikacja OLX nie działa poprawnie na moim telefonie z Androidem?',\n",
       "  'Jak mogę zaktualizować aplikację OLX na moim telefonie z iOS?',\n",
       "  'Jakie kroki należy podjąć, jeśli aplikacja OLX nie działa nawet po spełnieniu wszystkich wymagań oprogramowania?',\n",
       "  'Gdzie mogę znaleźć wersję aplikacji OLX zainstalowaną na moim urządzeniu?'],\n",
       " '314ee8cf': ['Czy oceny mogą być wystawiane w każdej kategorii na OLX?',\n",
       "  'Kiedy mogę wystawić ocenę sprzedającemu na OLX?',\n",
       "  'Czy ocena sprzedającego jest widoczna we wszystkich jego ogłoszeniach?',\n",
       "  'Dlaczego oceny nie są wyświetlane w ogłoszeniach z kategorii takich jak Usługi czy Praca?',\n",
       "  'Czy mogę zobaczyć oceny sprzedającego w aplikacji OLX na moim telefonie z Androidem?'],\n",
       " 'eefc3ee3': ['W jakich okolicznościach mogę ocenić sprzedającego na OLX?',\n",
       "  'Jakie kroki muszę podjąć, aby wystawić ocenę sprzedającemu na OLX?',\n",
       "  'Czy mogę wystawić ocenę sprzedającemu od razu po zakupie przedmiotu?',\n",
       "  'Jakie są dostępne opcje w momencie oceny sprzedającego za pomocą e-maila lub powiadomienia push?',\n",
       "  'Co się dzieje, jeśli przyznam trzy lub mniej gwiazdek sprzedającemu na OLX?',\n",
       "  'Czy mogę ocenić przebieg transakcji z danym sprzedającym po 60 dniach od zakupu?',\n",
       "  'Kiedy sprzedający zobaczy moją wystawioną ocenę na OLX?',\n",
       "  'Jakie informacje będą widoczne dla sprzedającego w mojej ocenie na OLX?',\n",
       "  'Jakie warunki muszę spełnić, aby wystawić ocenę sprzedającemu na OLX?',\n",
       "  'Czy mogę ocenić sprzedającego, jeśli moje konto zostało zablokowane, ograniczone lub oznaczone jako oszustwo?'],\n",
       " 'f7c6bf38': ['Czy mogę zaktualizować ocenę, którą już wystawiłem na OLX?',\n",
       "  'Czy istnieje możliwość edytowania oceny po jej wystawieniu na OLX?',\n",
       "  'Chciałbym poprawić swoją ocenę, czy jest to możliwe na platformie OLX?',\n",
       "  'Czy OLX pozwala na zmianę już wystawionej oceny dla sprzedającego?',\n",
       "  'Czy mogę ponownie wystawić ocenę po zmianie lub usunięciu wcześniejszej na OLX?'],\n",
       " '0eb46939': ['Jak mogę mieć pewność, że ocena sprzedawcy jest zweryfikowana?',\n",
       "  'Czym różni się zweryfikowana ocena od zwykłej oceny na OLX?',\n",
       "  'W jaki sposób OLX sprawdza, czy transakcja miała miejsce między kupującym a sprzedającym?',\n",
       "  'Czy tylko zakup z Przesyłką OLX gwarantuje zweryfikowaną ocenę?',\n",
       "  'Dlaczego OLX zbiera zweryfikowane oceny tylko w przypadku zakupów z Przesyłką OLX?'],\n",
       " '5e043cfd': ['Jakie jest znaczenie jednej gwiazdki w systemie ocen na platformie OLX?',\n",
       "  'Co oznacza przyznanie komuś dwóch gwiazdek w nowym systemie ocen na OLX?',\n",
       "  'Jaką opinię wyraża przyznanie trzech gwiazdek sprzedającemu na OLX?',\n",
       "  'Co oznacza przyznanie czterech gwiazdek sprzedającemu na OLX?',\n",
       "  'Jakie jest znaczenie przyznania pięciu gwiazdek w systemie ocen użytkowników na OLX?'],\n",
       " 'b1f31cc0': ['Czy mogę wybrać tag, jeśli dałem sprzedającemu cztery lub pięć gwiazdek?',\n",
       "  'Czy muszę wybrać tag, jeśli oceniłem sprzedającego na trzy gwiazdki lub mniej?',\n",
       "  'Jakie są różnice między pozytywnymi a negatywnymi tagami?',\n",
       "  'Na jakie aspekty mogę zwrócić uwagę przy wybieraniu tagów?',\n",
       "  'Czy tagi mogą się zmienić w przyszłości, a jeśli tak, czy dotychczas wybrane tagi pozostaną takie same?'],\n",
       " 'ea83195e': ['Czy mogę dodać komentarz tekstowy do mojej oceny na OLX?',\n",
       "  'Czy na platformie OLX dostępna jest możliwość dołączenia komentarza tekstowego do oceny?',\n",
       "  'Czy na OLX mogę umieścić tekstowy komentarz w ocenie dla innego użytkownika?',\n",
       "  'Jestem zainteresowany dodaniem komentarza tekstowego do oceny na OLX. Czy to możliwe?',\n",
       "  'Kiedy mogę się spodziewać opcji dodawania tekstowych komentarzy w Systemie Ocen na OLX?'],\n",
       " 'e3610c01': ['Jakie informacje są wyświetlane w ogłoszeniach sprzedającego dotyczące jego ocen?',\n",
       "  'Gdzie na OLX mogę zobaczyć pełną analizę ocen sprzedającego?',\n",
       "  'Jakie informacje zawiera lista ocen sprzedającego na jego profilu?',\n",
       "  'Czy moje oceny sprzedającego są widoczne dla innych użytkowników?',\n",
       "  'Jakie szczegółowe informacje są dostępne w zakładkach Otrzymane oceny i Wystawione oceny?'],\n",
       " 'b8121ab6': ['Dlaczego widzę dwie różne oceny u tego samego sprzedającego?',\n",
       "  'Czy sprzedający może nie mieć oceny i dlaczego?',\n",
       "  'Kiedy przestanę widzieć dwie różne oceny na profilach sprzedających?',\n",
       "  'Skąd mam wiedzieć, która ocena jest z poprzedniego systemu ocen i która z nowego?',\n",
       "  'Na czym polegał stary system ocen i gdzie mogę o nim przeczytać?'],\n",
       " '2f4756d7': [\"Co oznacza termin 'poprzednia ocena' w profilu sprzedającego na OLX?\",\n",
       "  'Jak długo można będzie zobaczyć poprzednie oceny sprzedającego na OLX?',\n",
       "  'Czy poprzednia ocena w systemie ocen OLX jest matematyczną średnią indywidualnych ocen?',\n",
       "  'Na jakiej koncepcji bazował poprzedni system ocen na OLX?',\n",
       "  'Jakie rodzaje ocen były uwzględniane przez poprzedni system ocen na OLX i jakie miały wagi?'],\n",
       " 'ec79b98a': ['Czy mogę uzyskać dostęp do ocen, które otrzymałem na OLX w przeszłości?',\n",
       "  'Jak mogę poprosić o listę wszystkich ocen, które otrzymałem na OLX?',\n",
       "  'Czy mogę zobaczyć swoje poprzednie oceny na OLX na telefonie?',\n",
       "  'W jaki sposób mogę wyświetlić wszystkie oceny, które otrzymałem i wystawiłem w poprzednim Systemie Ocen na OLX?',\n",
       "  'Ile czasu zajmie, zanim otrzymam plik z moimi poprzednimi ocenami na OLX po złożeniu wniosku?'],\n",
       " '0d5c9008': ['Gdzie mogę znaleźć oceny, które wystawiłem jako kupujący na OLX?',\n",
       "  'Jak są uporządkowane oceny, które wystawiłem na OLX?',\n",
       "  'Co zobaczę po kliknięciu przycisku Pokaż obok każdej oceny na OLX?',\n",
       "  'Jak mogę sprawdzić nazwy użytkowników, którym wystawiłem oceny na OLX?',\n",
       "  'Czy mogę zobaczyć datę wystawienia oceny i datę zamówienia przedmiotu na OLX?'],\n",
       " 'c4479dd3': ['Jak mogę sprawdzić oceny, które dostałem jako sprzedający na OLX?',\n",
       "  'Jakie informacje znajdę w sekcji Otrzymane oceny na moim koncie OLX?',\n",
       "  'Gdzie na OLX mogę zobaczyć oceny, które przyznali mi kupujący?',\n",
       "  'Czy mogę zobaczyć uzasadnienie oceny, którą otrzymałem na OLX?',\n",
       "  'Jak mogę sprawdzić, czy oceny, które dostałem na OLX, zostały usunięte?'],\n",
       " 'fbdcafed': ['W jaki sposób zostanę powiadomiony o nowej ocenie, jako sprzedający na OLX?',\n",
       "  'Czy OLX informuje mnie o nowych ocenach poprzez e-mail?',\n",
       "  'Czy istnieje sposób na natychmiastowe sprawdzenie otrzymanych ocen na OLX?',\n",
       "  'Jakiego rodzaju powiadomienia otrzymam po otrzymaniu nowej oceny na OLX?',\n",
       "  'Gdzie mogę znaleźć wszystkie otrzymane oceny na OLX?'],\n",
       " 'f151c2bb': ['Na jakiej podstawie jest wyliczana moja średnia ocena jako sprzedawcy na OLX?',\n",
       "  'Czy mogę dowiedzieć się, jak dokładnie kalkulowana jest moja ocena jako sprzedawcy?',\n",
       "  'Jakie konkretnie oceny są brane pod uwagę przy obliczaniu mojej średniej oceny jako sprzedawcy?',\n",
       "  'Jak system OLX przelicza liczbę gwiazdek na średnią ocenę dla sprzedającego?',\n",
       "  'Ile wyniesie moja średnia ocena sprzedającego, jeśli otrzymam różne liczby gwiazdek?'],\n",
       " '01f95cb6': ['Czy mogę samodzielnie usunąć ocenę, którą otrzymałem na OLX?',\n",
       "  'W jaki sposób mogę zgłosić prośbę o usunięcie oceny na OLX?',\n",
       "  'Jakie są powody, dla których OLX może usunąć ocenę?',\n",
       "  'Czy istnieją specjalne warunki, które muszę spełnić, aby ocena została usunięta na OLX?',\n",
       "  'Jak długo trwa proces usuwania oceny przez OLX?',\n",
       "  'Czy kupujący zostanie poinformowany, jeśli moja ocena na OLX zostanie usunięta?',\n",
       "  'Czy przed usunięciem oceny muszę przedstawić dowody na jej niesprawiedliwość?',\n",
       "  'Czy usunięta ocena wpływa na ogólną ocenę sprzedającego na OLX?',\n",
       "  'Czy mogę usunąć ocenę, którą wystawiłem sprzedającemu na OLX?',\n",
       "  'Czy oceny można usunąć, jeśli zostały wystawione w zamian za korzyść materialną?'],\n",
       " 'bde8bc7c': ['Czy mogę ocenić sprzedawcę, jeśli anulowałem zamówienie przed jego otrzymaniem?',\n",
       "  'Czy mogę wyrazić swoją opinię w systemie ocen, jeśli przedmiot nie został dostarczony?',\n",
       "  'Czy istnieje możliwość wystawienia oceny, jeśli przesyłka nie dotarła do mnie, ale do punktu odbioru?',\n",
       "  'Czy otrzymam możliwość wystawienia oceny, jeśli przesyłka zostanie dostarczona, ale jej nie odbiorę?',\n",
       "  'Czy mogę skorzystać z systemu ocen, jeśli zamówienie zostało anulowane przed dostarczeniem przedmiotu?'],\n",
       " 'd4e7a30b': ['Czy mogę ocenić sprzedającego, jeśli nie otrzymałem zamówionego przedmiotu?',\n",
       "  'Czy jest możliwe wystawienie oceny, jeśli nie odebrałem paczki od sprzedającego?',\n",
       "  'Czy mogę wystawić ocenę sprzedającemu, jeżeli paczka została tylko dostarczona do punktu odbioru?',\n",
       "  'Czy umożliwiacie ocenę transakcji, kiedy kupujący jeszcze nie odebrał przesyłki?',\n",
       "  'Czy można ocenić sprzedawcę zanim odbiorę przedmiot z punktu odbioru?'],\n",
       " '78b8c86d': ['Czy mogę wystawić lub otrzymać ocenę, jeżeli nie korzystam z Przesyłki OLX?',\n",
       "  'Dlaczego nie mogę wystawić oceny, jeśli nie korzystam z Przesyłki OLX?',\n",
       "  'Czy system ocen pozwala na wystawianie ocen na podstawie samej komunikacji?',\n",
       "  'Czy istnieje możliwość wystawienia oceny w przypadku transakcji bez Przesyłki OLX?',\n",
       "  'Jakie warunki muszą być spełnione, aby móc wystawić ocenę na OLX?'],\n",
       " '37570bca': ['Jak wygląda ocena zakupu u sprzedającego na OLX?',\n",
       "  'Na czym polega użycie gwiazdek do oceniania sprzedającego?',\n",
       "  'Co to są tagi i jak wpływają na ocenę transakcji?',\n",
       "  'Jak obliczana jest łączna ocena sprzedającego na OLX?',\n",
       "  'Czym jest zweryfikowana ocena transakcji z Przesyłką OLX?',\n",
       "  'Jakie są sposoby na prośbę o ocenę po zakończonej transakcji?'],\n",
       " 'a4863842': ['Co to jest cena dynamiczna na platformie OLX?',\n",
       "  'Jakie mechanizmy wpływają na zmianę ceny dynamicznej w OLX?',\n",
       "  'W jaki sposób mogę sprawdzić aktualną cenę dynamiczną podczas uzupełniania formularza ogłoszeniowego?',\n",
       "  'Czy cena dynamiczna jest wyświetlana przed zakupem usługi na OLX?',\n",
       "  'Dlaczego cena dynamiczna zmienia się na podstawie popytu rynkowego?'],\n",
       " 'eb62e045': ['Co oznacza termin Cena końcowa na platformie OLX?',\n",
       "  'Jakie podatki są uwzględnione w Cenie końcowej oferowanej na OLX?',\n",
       "  'Czy Cena końcowa zawiera podatek akcyzowy w przypadku produktów na OLX?',\n",
       "  'Dlaczego Cena końcowa uwzględnia VAT?',\n",
       "  'Na czym polega określenie Ceny końcowej dla Usług oferowanych na OLX?'],\n",
       " 'f36b8a79': ['Czym jest usługa Dostawy na platformie OLX?',\n",
       "  'Kto realizuje usługę przyjmowania, sortowania, przemieszczania i doręczania przedmiotów na OLX?',\n",
       "  'Czy OLX sam świadczy usługi Dostawy?',\n",
       "  'Jakie firmy można wybrać do realizacji usług Dostawy na OLX?',\n",
       "  'Czy usługi Dostawy na OLX obejmują usługi pocztowe?'],\n",
       " '4a56fbd2': [\"Co oznacza termin 'Dzień' w kontekście regulaminu OLX?\",\n",
       "  \"Jakie jest znaczenie słowa 'Dzień' w sekcji definicji OLX?\",\n",
       "  \"Ile godzin obejmuje 'Dzień' według definicji OLX?\",\n",
       "  \"W jaki sposób OLX definiuje 'Dzień' w swoim regulaminie?\",\n",
       "  \"Czy 'Dzień' na OLX oznacza 24 kolejne godziny?\"],\n",
       " 'c950ef55': ['Kto jest uważany za gościa na platformie OLX?',\n",
       "  'Czy osoba korzystająca z OLX bez logowania się jest gościem?',\n",
       "  'Kto nie posiada konta na OLX i korzysta z serwisu: kim jest ta osoba?',\n",
       "  'Czy osoba fizyczna korzystająca z OLX bez posiadania konta lub niezalogowana jest gościem?',\n",
       "  'Jak określa się na OLX osobę, która nie jest zalogowana ani nie ma konta?'],\n",
       " '7acd2acc': ['Jakie dane ma Grupa OLX sp. z o. o.?',\n",
       "  'Jaki jest adres siedziby Grupy OLX?',\n",
       "  'Pod jakim numerem KRS jest wpisana Grupa OLX?',\n",
       "  'Jaka jest wysokość kapitału zakładowego Grupy OLX?',\n",
       "  'Jak mogę skontaktować się z Grupą OLX?'],\n",
       " '23b43d07': {'questions': ['Kim jest kandydat przeglądający oferty pracy na platformie OLX?',\n",
       "   'Kto jest określany jako kandydat używający funkcji w kategorii Praca na OLX?',\n",
       "   'Jakie osoby są uznawane za kandydatów w kontekście ogłoszeń o pracę na OLX?',\n",
       "   'Czy gość przeglądający ogłoszenia w kategorii Praca na OLX to kandydat?',\n",
       "   \"Jakie funkcjonalności dotyczą kandydatów na OLX według Załącznika nr 1 'OLX Praca'?\"]},\n",
       " 'd728141a': ['Czym jest kategoria w kontekście ogłoszenia na OLX?',\n",
       "  'Jak definiowana jest kategoria tematyczna na platformie OLX?',\n",
       "  \"Do czego odnosi się termin 'kategoria' w serwisie OLX?\",\n",
       "  'Jakie są przykłady kategorii tematycznych, które można znaleźć na OLX?',\n",
       "  'Czy kategorie na OLX mogą być podzielone na podkategorie?'],\n",
       " '8d335987': ['Kim jest konsument na platformie OLX?',\n",
       "  'Jak OLX definiuje konsumenta?',\n",
       "  'Kogo nazywamy konsumentem w regulaminie OLX?',\n",
       "  'Jakie kryteria trzeba spełnić, aby być uznanym za konsumenta w OLX?',\n",
       "  'Z jakimi działalnościami nie może być związany konsument, aby spełniać definicję na OLX?'],\n",
       " 'ff50559b': ['Czym jest Konto w kontekście korzystania z platformy OLX?',\n",
       "  'Jakie informacje są przechowywane w ramach mojego Konta na OLX?',\n",
       "  'Gdzie mogę znaleźć szczegółowe zasady dotyczące Konta OLX?',\n",
       "  'Jakie rodzaje aktywności są zapisywane w moim Koncie na OLX?',\n",
       "  'Która sekcja Regulaminu OLX zawiera informacje na temat Konta?'],\n",
       " 'c5ec21e8': ['Kim jest osoba dokonująca zakupu na platformie OLX?',\n",
       "  'Kto to jest Kupujący według definicji OLX?',\n",
       "  'Jak OLX definiuje użytkownika dokonującego zakupu?',\n",
       "  'Kto dokonuje Transakcji ze Sprzedającym na OLX?',\n",
       "  'Jakiego terminu OLX używa dla użytkownika kupującego na platformie?'],\n",
       " '7e759f7a': ['Ile darmowych ogłoszeń mogę umieścić na OLX w jednej kategorii w określonym czasie?',\n",
       "  'Czy limity darmowych ogłoszeń różnią się w różnych kategoriach na OLX?',\n",
       "  'Czy mogę publikować dodatkowe ogłoszenia na OLX po osiągnięciu limitu darmowych ogłoszeń w danej kategorii?',\n",
       "  'Czy limity darmowych ogłoszeń na OLX resetują się po pewnym czasie?',\n",
       "  'Czy limit darmowych ogłoszeń jest taki sam dla wszystkich użytkowników OLX?'],\n",
       " '896d0dae': ['Co to jest ogłoszenie na platformie OLX?',\n",
       "  'Jakie są zasady publikowania ogłoszenia na OLX?',\n",
       "  'Czy mogę zamieścić propozycję sprzedaży jako ogłoszenie na OLX?',\n",
       "  'Jakie rodzaje ogłoszeń mogę opublikować w serwisie OLX?',\n",
       "  'Czy mogę opublikować zaproszenie do uczestnictwa w procesie rekrutacyjnym jako ogłoszenie na OLX?'],\n",
       " 'aa9e24ac': ['Jak mogę uzyskać pełną funkcjonalność konta na OLX?',\n",
       "  'Czy muszę mieć zarejestrowane konto, aby korzystać z pełnej oferty OLX?',\n",
       "  'Czy mogę korzystać ze wszystkich funkcji OLX bez logowania się na konto?',\n",
       "  'Jakie korzyści daje mi pełne konto na OLX?',\n",
       "  'Czy muszę określić, czy korzystam z OLX prywatnie czy jako przedsiębiorca, aby mieć pełną funkcjonalność konta?'],\n",
       " '84d8b35f': ['Czy mogę założyć konto na OLX, jeśli jestem osobą fizyczną?',\n",
       "  'Jakie rodzaje podmiotów mogą posiadać konto na OLX?',\n",
       "  'Czy osoby prawne mogą korzystać z OLX?',\n",
       "  'Kto może zarządzać kontem na OLX w imieniu osoby prawnej?',\n",
       "  'Czy jednostka organizacyjna nieposiadająca osobowości prawnej może mieć konto na OLX?'],\n",
       " 'd30e6624': ['Czy mogę mieć więcej niż jedno konto na platformie OLX?',\n",
       "  'W jakich sytuacjach mogę posiadać dodatkowe konto na OLX?',\n",
       "  'Czy mogę mieć dwa konta na OLX, jedno prywatne i jedno do celów biznesowych?',\n",
       "  'Czy OLX pozwala na posiadanie kilku kont przez jednego użytkownika prowadzącego działalność gospodarczą?',\n",
       "  'Czy mogę założyć nowe konto na OLX, jeśli zapomnę hasła do obecnego?'],\n",
       " 'f018251f': ['Jakie kroki należy podjąć, aby zarejestrować nowe konto na platformie OLX?',\n",
       "  'Czy rejestracja konta na OLX wymaga podania adresu email i stworzenia hasła?',\n",
       "  'Czy istnieje możliwość zarejestrowania konta na OLX za pomocą konta na Facebooku, Google lub Apple?',\n",
       "  'Czy podczas rejestracji konta na OLX wymagane jest zapoznanie się z Regulaminem i jego załącznikami?',\n",
       "  'Jakie dane są wymagane w formularzu rejestracyjnym na platformie OLX?'],\n",
       " 'ea07084a': ['W jaki sposób OLX przetwarza dane osobowe użytkowników?',\n",
       "  'Czy OLX przetwarza dane osób działających w imieniu użytkowników?',\n",
       "  'Jak OLX przetwarza dane osób odwiedzających stronę jako goście?',\n",
       "  'Gdzie można znaleźć informacje o przetwarzaniu danych przez OLX?',\n",
       "  'Czy OLX przestrzega Polityki Prywatności przy przetwarzaniu danych?'],\n",
       " '33813c2c': ['Jak przebiega proces aktywacji konta na platformie OLX?',\n",
       "  'Co robić, jeśli nie otrzymałem emaila z linkiem aktywacyjnym po rejestracji?',\n",
       "  'Czy mogę ponownie zarejestrować się używając tego samego adresu email, jeśli nie aktywowałem konta na czas?',\n",
       "  'Jak długo ważny jest link aktywacyjny przesłany w emailu rejestracyjnym?',\n",
       "  'Co zawiera email potwierdzający rejestrację konta na OLX?'],\n",
       " 'a74246e6': ['Jakie dane muszę podać podczas procesu Rejestracji na platformie OLX?',\n",
       "  'Czy mogę podać nieprawdziwe dane podczas korzystania z Serwisu OLX?',\n",
       "  'Co zrobić, jeśli moje dane osobowe uległy zmianie po Rejestracji?',\n",
       "  'Jakie są konsekwencje podania nieaktualnych lub nieprawdziwych danych na OLX?',\n",
       "  'Czy OLX ma prawo zablokować moje konto, jeśli moje dane są nieprawdziwe lub nieaktualne?'],\n",
       " '1f9773b9': ['Czy osoba działająca w imieniu użytkownika prawnego musi mieć specjalne upoważnienie?',\n",
       "  'Jakie wymagania musi spełniać osoba działająca na rzecz jednostki organizacyjnej bez osobowości prawnej?',\n",
       "  'Czy OLX może wymagać dodatkowych dokumentów weryfikujących umocowanie osoby działającej w imieniu użytkownika?',\n",
       "  'Jak OLX weryfikuje, czy osoba reprezentująca firmę ma prawo do działania w jej imieniu?',\n",
       "  'Czy mogę działać w imieniu swojej firmy na OLX bez dostarczenia dodatkowych dokumentów?'],\n",
       " 'bf244995': ['Jakie są obowiązki użytkownika w zakresie ochrony danych dostępowych do Konta na OLX?',\n",
       "  'Co powinien zrobić użytkownik, gdy jego dane dostępowe do Konta zostaną przejęte przez osoby trzecie?',\n",
       "  'Jak OLX rekomenduje użytkownikom zachowywanie poufności danych dostępowych do Konta?',\n",
       "  'Jakie kroki należy podjąć, gdy podejrzewam, że ktoś nieupoważniony uzyskał dostęp do mojego Konta OLX?',\n",
       "  'Czy użytkownik jest zobowiązany do zgłaszania OLX sytuacji, w której jego dane dostępowe do Konta zostały ujawnione?'],\n",
       " '0f5525bd': ['Na jak długo zawierana jest umowa usługi Konta na platformie OLX?',\n",
       "  'Od kiedy obowiązuje umowa usługi Konta na OLX?',\n",
       "  'W jaki sposób użytkownik może rozwiązać umowę usługi Konta na OLX?',\n",
       "  'Co dzieje się z innymi umowami między użytkownikiem a Grupą OLX po usunięciu Konta?',\n",
       "  'Czy OLX zwróci pieniądze za niewykorzystane usługi płatne po usunięciu Konta?',\n",
       "  'Jakie kroki musi podjąć użytkownik, aby usunąć Konto, jeśli ma zgromadzone środki na Portfelu OLX?',\n",
       "  'Czy użytkownik będzie informowany o konieczności kontaktu z Grupą OLX, jeśli chce usunąć Konto ze środkami w Portfelu OLX?',\n",
       "  'Co traci użytkownik po usunięciu Konta lub rozwiązaniu umowy Konta na OLX?'],\n",
       " 'b61f3a70': ['Czy OLX może rozwiązać moją umowę, jeśli nie korzystałem z Konta przez ponad 24 miesiące?',\n",
       "  'Czy otrzymam powiadomienie przed rozwiązaniem umowy przez OLX?',\n",
       "  'Jak długo przed rozwiązaniem umowy przez OLX dostanę informację na e-mail?',\n",
       "  'W jaki sposób mogę powstrzymać rozwiązanie umowy przez OLX, jeśli otrzymam takie powiadomienie?',\n",
       "  'Co się stanie z moim Kontem po rozwiązaniu umowy przez OLX i czy mogę je ponownie zarejestrować?'],\n",
       " 'a67ae3a0': ['Dlaczego Grupa OLX ma prawo zwracać się do Użytkowników Biznesowych o przekazanie dodatkowych danych lub weryfikację danych?',\n",
       "  'W jakim celu OLX może żądać potwierdzenia tożsamości użytkownika lub informacji zawartych w Ogłoszeniu?',\n",
       "  'Co może się stać, jeśli weryfikacja danych użytkownika na platformie OLX nie powiedzie się?',\n",
       "  'Na jakiej podstawie OLX może zawiesić lub zablokować działanie konta użytkownika?',\n",
       "  'Który punkt regulaminu OLX określa zasady zawieszenia lub blokady konta użytkownika w przypadku niepowodzenia weryfikacji danych?'],\n",
       " '47ae523b': ['Czy mogę zrezygnować z umowy z Grupą OLX bez podania przyczyny?',\n",
       "  'Jaki jest termin na odstąpienie od umowy zawartej z Grupą OLX?',\n",
       "  'Czy muszę spełnić jakieś specjalne warunki, aby odstąpić od umowy z Grupą OLX?',\n",
       "  'Gdzie mogę znaleźć wzór formularza odstąpienia od umowy z Grupą OLX?',\n",
       "  'Co się stanie z moim kontem na OLX, jeśli odstąpię od umowy w ciągu 14 dni?'],\n",
       " '2b0d81ee': ['Jak Użytkownik Biznesowy może rozwiązać umowę usługi Konta, jeśli nie akceptuje zmian Regulaminu?',\n",
       "  'W jaki sposób Użytkownik Biznesowy jest informowany o zmianach do Regulaminu?',\n",
       "  'Jakie kroki musi podjąć Użytkownik Biznesowy, aby rozwiązać umowę usługi Konta w przypadku braku akceptacji zmian do Regulaminu?',\n",
       "  'Jaki jest termin na powiadomienie Grupy OLX o chęci rozwiązania umowy usługi Konta po ogłoszeniu zmian do Regulaminu?',\n",
       "  'Co się stanie, jeśli Użytkownik Biznesowy opublikuje nowe ogłoszenie po powiadomieniu o zmianach Regulaminu?'],\n",
       " '059738e5': {'questions': ['Czy muszę zadeklarować, czy korzystam z OLX jako przedsiębiorca czy jako osoba prywatna?',\n",
       "   'Czy deklaracja dotycząca statusu użytkownika (przedsiębiorca vs osoba prywatna) wpływa na wszystkie moje działania na OLX?',\n",
       "   'Dlaczego muszę podać, czy jestem przedsiębiorcą, czy osobą prywatną podczas korzystania z OLX?',\n",
       "   'Czy moja deklaracja o statusie użytkownika ma związek z publikowaniem ogłoszeń i zawieraniem transakcji na OLX?',\n",
       "   'Czy deklarowanie mojego statusu (przedsiębiorca vs osoba prywatna) jest wymagane dla wszystkich typów transakcji na OLX?']},\n",
       " '0d8df57a': ['Czy jako użytkownik OLX muszę określić, czy działam jako przedsiębiorca czy osoba prywatna, zawierając transakcje?',\n",
       "  'Czy mam obowiązek przestrzegać mojego statusu (przedsiębiorca lub osoba prywatna) podczas korzystania z Przesyłki OLX?',\n",
       "  'Czy realizując transakcje z usługą Płatności OLX, muszę działać zgodnie z deklarowaną rolą na OLX?',\n",
       "  'Co się stanie, jeśli nie będę działał zgodnie z moją deklaracją (przedsiębiorca lub użytkownik prywatny) podczas transakcji na OLX?',\n",
       "  'Jakie są zalecenia OLX dla użytkowników dotyczące transakcji w odniesieniu do ich statusu (przedsiębiorca lub osoba prywatna)?'],\n",
       " '5c920aad': ['Czy użytkownik biznesowy musi podać swoje dane identyfikacyjne, aby opublikować ogłoszenie na OLX?',\n",
       "  'Czy dane kontaktowe użytkowników biznesowych są dostępne publicznie na OLX?',\n",
       "  'Jakie informacje są wymagane od użytkowników biznesowych na OLX, aby korzystać z usług promowania?',\n",
       "  'Czy użytkownik biznesowy może korzystać z Przesyłki OLX bez przekazywania swoich danych identyfikacyjnych?',\n",
       "  'Jakie dane musi przekazać użytkownik biznesowy, aby móc publikować ogłoszenia i korzystać z płatności OLX?'],\n",
       " 'bf80eb5e': ['Jakie działania mógłbym podjąć w serwisie, aby zakłócić jego prawidłowe funkcjonowanie?',\n",
       "  'Czy mogę ingerować w zawartość konta innego użytkownika bez jego zgody?',\n",
       "  'Jakie treści są uznawane za bezprawne i nie mogą być publikowane w serwisie OLX?',\n",
       "  'Czy mogę sprzedawać rzeczy wymienione w załączniku 5, jeśli spełniam określone warunki?',\n",
       "  'Czy mogę wprowadzać kupujących w błąd co do cech sprzedawanych przedmiotów na OLX?'],\n",
       " 'fc0dd85c': ['Czy użytkownik powinien przestrzegać zobowiązań określonych w punkcie 13.1 Regulaminu podczas całego korzystania z Serwisu?',\n",
       "  'Czy wymóg przestrzegania zobowiązań z punktu 13.1 Regulaminu dotyczy każdej funkcjonalności oferowanej na OLX?',\n",
       "  'Czy publikację ogłoszeń i przesyłanie wiadomości do innych użytkowników także obejmuje przestrzeganie zobowiązań z punktu 13.1 Regulaminu?',\n",
       "  'Czy zobowiązania z punktu 13.1 Regulaminu obowiązują mnie tylko w przypadku korzystania z określonych funkcji na OLX?',\n",
       "  'Czy na każdym etapie korzystania z serwisu OLX muszę przestrzegać zobowiązań z punktu 13.1 Regulaminu, nawet podczas wysyłania wiadomości?'],\n",
       " '7bfb63ba': ['Czy OLX weryfikuje automatycznie wszystkie treści publikowane lub przesyłane w serwisie?',\n",
       "  'W jaki sposób odbywa się publikowanie i przesyłanie treści w serwisie OLX?',\n",
       "  'Czy publikowanie treści na OLX jest zautomatyzowane?',\n",
       "  'Czy Grupa OLX ręcznie weryfikuje wszystkie przesyłane treści?',\n",
       "  'Jakie narzędzia są używane do publikowania treści w serwisie OLX?'],\n",
       " '7293f181': ['Czy mogę dokonać zmian w moim ogłoszeniu po jego publikacji na OLX?',\n",
       "  'Czy OLX sprawdza zmiany, które wprowadzam do mojego ogłoszenia po jego publikacji?',\n",
       "  'Co się stanie, jeśli zmiany wprowadzone w moim ogłoszeniu będą naruszać regulamin OLX?',\n",
       "  'Czy OLX może usunąć moje ogłoszenie, jeśli wprowadzone przeze mnie zmiany są niezgodne z regulaminem?',\n",
       "  'Jakie działania podejmie OLX, jeśli zaktualizowana treść mojego ogłoszenia narusza przepisy prawa?'],\n",
       " '20bdbe32': ['Jak mogę zgłosić treść na OLX, która jest bezprawna lub niezgodna z regulaminem?',\n",
       "  'Jakie informacje są potrzebne, aby zgłosić nadużycie na OLX?',\n",
       "  \"Gdzie znajdę funkcjonalność 'zgłoś naruszenie' na OLX?\",\n",
       "  'Czy muszę podawać swoje dane kontaktowe przy zgłaszaniu nadużycia na OLX?',\n",
       "  'Co to jest ID Ogłoszenia i dlaczego jest potrzebne przy zgłaszaniu nadużycia na OLX?'],\n",
       " '15542325': ['Co się dzieje, gdy OLX uzyska wiarygodną informację o bezprawnej treści przesyłanej w serwisie?',\n",
       "  'Jakie działania podejmie OLX, jeśli treść ogłoszenia narusza regulamin?',\n",
       "  'Czy OLX może zablokować ogłoszenie, jeśli zostanie zgłoszone nadużycie?',\n",
       "  'W jaki sposób OLX informuje użytkownika o zablokowanej treści?',\n",
       "  'Czy są sytuacje, w których OLX nie musi informować użytkownika o blokadzie treści?'],\n",
       " '51a23b03': ['Czy Użytkownik Biznesowy może zakwestionować decyzję o blokadzie treści opublikowanej na OLX?',\n",
       "  'Jakie kroki należy podjąć, aby złożyć sprzeciw wobec blokady treści w serwisie OLX?',\n",
       "  'Co się dzieje, gdy sprzeciw Użytkownika Biznesowego dotyczący blokady treści zostanie uznany za zasadny?',\n",
       "  'Czy zablokowane ogłoszenie objęte Usługami Odpłatnymi będzie przywrócone w serwisie OLX?',\n",
       "  'W jaki sposób OLX zwraca opłaty za emisję ogłoszenia, które zostało zablokowane, jeśli sprzeciw jest uznany za zasadny?'],\n",
       " '0e8ded0c': ['Co się dzieje z treścią zablokowaną, jeśli sprzeciw użytkownika biznesowego uznano za bezzasadny?',\n",
       "  'Co się stanie, jeśli użytkownik biznesowy nie wniesie sprzeciwu w terminie 7 dni od pozyskania informacji, o której mowa w punkcie 13.6.c?',\n",
       "  'Czy zablokowana treść zostaje usunięta, jeśli sprzeciw użytkownika biznesowego jest bezzasadny?',\n",
       "  'W jakim terminie musi użytkownik biznesowy wnieść sprzeciw, aby uniknąć bezpowrotnego usunięcia treści z serwisu?',\n",
       "  'Jakie są konsekwencje nie wniesienia sprzeciwu przez użytkownika biznesowego w odpowiednim czasie?'],\n",
       " '6a293a6d': ['Czy OLX może usunąć moje ogłoszenie, jeśli istnieje podejrzenie, że zagraża ono bezpieczeństwu innych użytkowników?',\n",
       "  'Pod jakimi warunkami OLX może zablokować moje konto?',\n",
       "  'W jakich sytuacjach OLX ma prawo usunąć moje ogłoszenie z platformy?',\n",
       "  'Czy OLX może usunąć moje ogłoszenie, które negatywnie wpływa na dobre imię firmy?',\n",
       "  'Kiedy OLX może zablokować moje konto, jeśli moje działania szkodzą Grupie OLX?'],\n",
       " '368caa05': ['Co OLX może zrobić w przypadku poważnego naruszenia prawa z wykorzystaniem Serwisu?',\n",
       "  'Jak działają kroki OLX w przypadku powtarzających się prób publikowania nielegalnych treści przez użytkownika?',\n",
       "  'Czy OLX może zawiesić konto użytkownika za powtarzające się naruszenia regulaminu, nawet jeśli używa on różnych kont?',\n",
       "  'Co oznacza zawieszenie konta w OLX i jakie ograniczenia się z tym wiążą?',\n",
       "  'Co oznacza zablokowanie konta użytkownika na OLX i jakie są jego skutki?'],\n",
       " 'd261a76e': ['Jakie działania podejmuje OLX w przypadku bezprawnych lub niezgodnych z Regulaminem działań Użytkowników w zakresie blokady lub zawieszenia Konta?',\n",
       "  'Kiedy i w jaki sposób Użytkownik zostanie poinformowany o blokadzie lub zawieszeniu swojego Konta na platformie OLX?',\n",
       "  'Co dokładnie znajduje się w wiadomości e-mail informującej o blokadzie lub zawieszeniu Konta na OLX?',\n",
       "  'Jakie kroki może podjąć Użytkownik, który nie zgadza się z decyzją OLX o zablokowaniu lub zawieszeniu jego Konta?',\n",
       "  'Czy wniesienie sprzeciwu dotyczącego blokady lub zawieszenia Konta przez Użytkownika wpływa na jego prawo do składania reklamacji na OLX?'],\n",
       " '653d264c': ['Na jakiej podstawie OLX podejmuje decyzje o blokadzie lub zawieszeniu treści lub Konta?',\n",
       "  'Jakie polityki i procedury moderacyjne są stosowane przez Grupę OLX?',\n",
       "  'W jaki sposób OLX identyfikuje treści lub działania naruszające Regulamin?',\n",
       "  'Jakie są główne cele opracowanych przez OLX polityk i procedur moderacyjnych?',\n",
       "  'Dlaczego ważne jest przestrzeganie regulaminu i przepisów prawa przez użytkowników OLX?'],\n",
       " 'f1be8bd4': ['W jaki sposób OLX identyfikuje treści naruszające regulamin lub przepisy prawa?',\n",
       "  'Czy OLX używa automatycznych narzędzi do moderowania treści użytkowników?',\n",
       "  'Jakie technologie OLX stosuje do analizy treści zamieszczanych w serwisie?',\n",
       "  'Czy wszystkie treści na OLX są weryfikowane przez automatyczne narzędzia moderacyjne?',\n",
       "  'Które działania użytkowników na OLX mogą być zidentyfikowane jako niezgodne z regulaminem dzięki automatycznym narzędziom?'],\n",
       " '74123939': ['Jakie działania Grupa OLX podejmuje w przypadku naruszenia postanowień Regulaminu dotyczących konta użytkownika?',\n",
       "  'Czy decyzje dotyczące naruszeń bezpieczeństwa serwisu OLX są podejmowane automatycznie?',\n",
       "  'Jakie działania Grupa OLX podejmuje w przypadku naruszenia przepisów prawa przez użytkownika?',\n",
       "  'Kto decyduje o treściach zamieszczanych przez użytkowników, które mogą naruszać regulamin OLX?',\n",
       "  'Czy naruszenia zgłoszone przez innych użytkowników OLX są rozpatrywane przez zespół moderacyjny?']}"
      ]
     },
     "execution_count": 89,
     "metadata": {},
     "output_type": "execute_result"
    }
   ],
   "source": [
    "parsed_resulst"
   ]
  },
  {
   "cell_type": "code",
   "execution_count": 92,
   "id": "41ab6dfa",
   "metadata": {},
   "outputs": [
    {
     "data": {
      "text/plain": [
       "{'text': 'Krok 1. Załóż konto na OLX poprzez:\\nstronę internetową OLX — kliknij Twoje konto → Załóż konto lub kliknij tutaj.\\naplikację mobilną OLX — kliknij Konto → Zaloguj się → Załóż konto.\\nJeśli grafika jest nieczytelna, kliknij prawy przycisk myszy i wybierz „Otwórz grafikę w nowej karcie\".\\nKrok 2. Wpisz swój adres e-mail.\\nKrok 3. Wpisz hasło, które ma minimum 8 znaków, w tym przynajmniej jedną dużą i małą literę, jedną cyfrę oraz znak specjalny.\\nKrok 4. Kliknij Zarejestruj się.\\nKrok 5. Przejdź do skrzynki mailowej i w wiadomości od OLX kliknij przycisk Aktywuj konto.\\nJeśli nie masz linku aktywacyjnego — napisz do nas.\\nNa jednym koncie OLX nie można sprzedawać przedmiotów prywatnych i przedmiotów w ramach prowadzenia firmy. Do każdego typu sprzedaży (prywatnie, jako firma) wymagane jest oddzielne konto.\\nKonto na OLX możesz założyć za pomocą konta na Facebooku. Wystarczy, że klikniesz tutaj. Następnie wybierz przycisk Kontynuuj z Facebook i postępuj zgodnie z wyświetlanymi wskazówkami. W ten sposób utworzymy konto w OLX na adresie e-mail powiązanym z Twoim kontem Facebook. Przed wyborem „Kontynuuj z Facebookiem\" sprawdź, czy jesteś zalogowany/zalogowana na danym urządzeniu do konta Facebook.',\n",
       " 'section': 'Konto',\n",
       " 'question': 'Jak założyć konto?',\n",
       " 'id': '2ddb5f16'}"
      ]
     },
     "execution_count": 92,
     "metadata": {},
     "output_type": "execute_result"
    }
   ],
   "source": [
    "documents[0]"
   ]
  },
  {
   "cell_type": "code",
   "execution_count": 90,
   "id": "6c928923-d3d8-4b8f-b093-887dffc8e6cb",
   "metadata": {},
   "outputs": [],
   "source": [
    "doc_index = {d['id']: d for d in documents}"
   ]
  },
  {
   "cell_type": "code",
   "execution_count": 93,
   "id": "1ad018b8-33d7-4b80-85df-de3a115aa2b7",
   "metadata": {},
   "outputs": [],
   "source": [
    "final_results = []\n",
    "\n",
    "for doc_id, questions in parsed_resulst.items():\n",
    "    for q in questions:\n",
    "        final_results.append((q, doc_id))"
   ]
  },
  {
   "cell_type": "code",
   "execution_count": 94,
   "id": "f7e44c9c-c383-4b7a-8c7a-404d9c2ec8d2",
   "metadata": {},
   "outputs": [],
   "source": [
    "import pandas as pd"
   ]
  },
  {
   "cell_type": "code",
   "execution_count": 95,
   "id": "c5adba2e-d628-47e5-a107-0ddad14fd667",
   "metadata": {},
   "outputs": [],
   "source": [
    "df = pd.DataFrame(final_results, columns=['question', 'document'])"
   ]
  },
  {
   "cell_type": "code",
   "execution_count": 96,
   "id": "9e4d5ba5-c59c-4e0f-9e79-8f4cd86bb5f0",
   "metadata": {},
   "outputs": [],
   "source": [
    "df.to_csv('../data/ground-truth-data_2024_08_25.csv', index=False)"
   ]
  },
  {
   "cell_type": "code",
   "execution_count": 97,
   "id": "f88e2b0d-53ba-4766-9f5c-aa5d85eff47b",
   "metadata": {},
   "outputs": [
    {
     "name": "stdout",
     "output_type": "stream",
     "text": [
      "question,document\n",
      "Jak mogę założyć konto na OLX przez stronę internetową?,2ddb5f16\n",
      "Jakie są kroki potrzebne do założenia konta w aplikacji mobilnej OLX?,2ddb5f16\n",
      "Jakie wymagania musi spełniać hasło podczas zakładania konta na OLX?,2ddb5f16\n",
      "\"Co zrobić, jeśli nie otrzymałem linku aktywacyjnego po rejestracji na OLX?\",2ddb5f16\n",
      "Czy mogę używać jednego konta OLX do sprzedaży prywatnej i firmowej?,2ddb5f16\n",
      "Jak mam zweryfikować moje konto OLX za pomocą numeru telefonu?,943a92e0\n",
      "\"Co zrobić, jeśli nie otrzymałem SMS z kodem weryfikacyjnym przy dodawaniu pierwszego ogłoszenia na OLX?\",943a92e0\n",
      "Jak długo trzeba czekać na SMS z kodem weryfikacyjnym od OLX?,943a92e0\n",
      "\"Czy mogę jakoś sprawdzić, dlaczego nie dostaję kodu weryfikacyjnego SMS od OLX?\",943a92e0\n"
     ]
    }
   ],
   "source": [
    "!head ../data/ground-truth-data_2024_08_25.csv"
   ]
  },
  {
   "cell_type": "markdown",
   "id": "46afefd7-2230-4a08-ae31-5600de189d6f",
   "metadata": {},
   "source": [
    "## Updating prompt"
   ]
  },
  {
   "cell_type": "code",
   "execution_count": 106,
   "id": "2c3ed4ee",
   "metadata": {},
   "outputs": [],
   "source": [
    "updated_prompt_template = \"\"\"\n",
    "Jesteś pracownikiem działu obsługi klienta w firmie OLX będącej platformą ogłoszeniową.\n",
    "Otrzymałeś zadanie aby do kazdego ZAGADNIENIE z FAQ lub regulaminu stworzyć 5 pytań, które \n",
    "mógłby zadać klient platformy OLX.\n",
    "Każde ZAGADNIENIE powinno zawierać odpowiedź na pytanie. Pytanie powinno być kompletne i nie za krótkie. Pytanie powinno być zadane tak jak mógłby to zrobić zwykły uytkownik serwisu. Jeśli to możliwe, użyj jak najmniej słów z oryginalnego ZAGADNIENIE i ODPOWIEDŹ.\n",
    "\n",
    "Pytanie:\n",
    "\n",
    "SEKCJA: {section}\n",
    "ZAGADNIENIE: {question}\n",
    "ODPOWIEDŹ: {text}\n",
    "\n",
    "Odpowiedź powinna być w parsowalnym formacie JSON. Nie używaj bloków kodu:\n",
    "\n",
    "[\"pytanie1\", \"pytanie2\", \"pytanie3\", \"pytanie4\", \"pytanie5\"]\n",
    "\"\"\".strip()"
   ]
  },
  {
   "cell_type": "code",
   "execution_count": 107,
   "id": "89a5fd6b",
   "metadata": {},
   "outputs": [],
   "source": [
    "from openai import OpenAI\n",
    "client = OpenAI()"
   ]
  },
  {
   "cell_type": "code",
   "execution_count": 108,
   "id": "e3f0b528",
   "metadata": {},
   "outputs": [],
   "source": [
    "def generate_questions_updated(doc):\n",
    "    prompt = updated_prompt_template.format(**doc)\n",
    "\n",
    "    response = client.chat.completions.create(\n",
    "        model='gpt-4o',\n",
    "        messages=[{\"role\": \"user\", \"content\": prompt}]\n",
    "    )\n",
    "\n",
    "    json_response = response.choices[0].message.content\n",
    "    return json_response"
   ]
  },
  {
   "cell_type": "code",
   "execution_count": 109,
   "id": "13ecdee7",
   "metadata": {},
   "outputs": [],
   "source": [
    "questions = generate_questions_updated(documents[0])"
   ]
  },
  {
   "cell_type": "code",
   "execution_count": 110,
   "id": "1a3b5656",
   "metadata": {},
   "outputs": [
    {
     "data": {
      "text/plain": [
       "'[\\n\"Jak mogę założyć konto na OLX przez stronę internetową?\",\\n\"Jak założyć konto w aplikacji mobilnej OLX?\",\\n\"Jakie są wymagania dotyczące hasła podczas rejestracji na OLX?\",\\n\"Co mam zrobić, jeśli nie otrzymałem linku aktywacyjnego na mój e-mail?\",\\n\"Czy mogę założyć konto na OLX za pomocą Facebooka i jak to zrobić?\"\\n]'"
      ]
     },
     "execution_count": 110,
     "metadata": {},
     "output_type": "execute_result"
    }
   ],
   "source": [
    "questions\n"
   ]
  },
  {
   "cell_type": "code",
   "execution_count": null,
   "id": "0110fdc8",
   "metadata": {},
   "outputs": [
    {
     "data": {
      "text/plain": [
       "'[\"Jak mogę założyć konto na stronie internetowej OLX?\", \"Jak założyć konto na OLX za pomocą aplikacji mobilnej?\", \"Jakie wymagania musi spełniać hasło przy tworzeniu konta na OLX?\", \"Co zrobić, jeśli nie mogę znaleźć linku aktywacyjnego po rejestracji na OLX?\", \"Czy mogę używać jednego konta OLX do sprzedaży prywatnej i firmowej?\"]'"
      ]
     },
     "metadata": {},
     "output_type": "display_data"
    }
   ],
   "source": [
    "questions\n"
   ]
  },
  {
   "cell_type": "code",
   "execution_count": 111,
   "id": "291cf0df",
   "metadata": {},
   "outputs": [],
   "source": [
    "from tqdm.auto import tqdm\n",
    "import pickle\n",
    "import pandas as pd"
   ]
  },
  {
   "cell_type": "code",
   "execution_count": 119,
   "id": "e84c33f6",
   "metadata": {},
   "outputs": [],
   "source": [
    "results = {}"
   ]
  },
  {
   "cell_type": "code",
   "execution_count": 120,
   "id": "5b7e04fb",
   "metadata": {},
   "outputs": [],
   "source": [
    "documents_no_definitions = [doc for doc in documents if doc['section'] != 'Definicje']"
   ]
  },
  {
   "cell_type": "code",
   "execution_count": 121,
   "id": "66b51949",
   "metadata": {},
   "outputs": [
    {
     "name": "stderr",
     "output_type": "stream",
     "text": [
      "  0%|          | 0/78 [00:00<?, ?it/s]"
     ]
    },
    {
     "name": "stderr",
     "output_type": "stream",
     "text": [
      "100%|██████████| 78/78 [02:31<00:00,  1.94s/it]\n"
     ]
    }
   ],
   "source": [
    "for doc in tqdm(documents_no_definitions): \n",
    "    doc_id = doc['id']\n",
    "    if doc_id in results:\n",
    "        continue\n",
    "\n",
    "    questions = generate_questions_updated(doc)\n",
    "    results[doc_id] = questions"
   ]
  },
  {
   "cell_type": "code",
   "execution_count": 122,
   "id": "9eadc642",
   "metadata": {},
   "outputs": [],
   "source": [
    "with open('../data/results_updated.bin', 'wb') as f_out:\n",
    "    pickle.dump(results, f_out)"
   ]
  },
  {
   "cell_type": "code",
   "execution_count": 123,
   "id": "88e0ff48",
   "metadata": {},
   "outputs": [],
   "source": [
    "with open('../data/results_updated.bin', 'rb') as f_in:\n",
    "    results = pickle.load(f_in)"
   ]
  },
  {
   "cell_type": "code",
   "execution_count": 124,
   "id": "dd42d26f",
   "metadata": {},
   "outputs": [
    {
     "data": {
      "text/plain": [
       "'[\"Na jakiej podstawie OLX podejmuje decyzje o blokadzie lub zawieszeniu treści lub konta?\", \"Jak OLX identyfikuje treści lub działania użytkowników, które naruszają regulamin?\", \"Jakie są główne cele polityk i procedur moderacyjnych OLX?\", \"Co OLX bada podczas oceny treści pod kątem naruszenia regulaminu?\", \"Dlaczego OLX blokuje lub zawiesza niektóre treści lub konta użytkowników?\"]'"
      ]
     },
     "execution_count": 124,
     "metadata": {},
     "output_type": "execute_result"
    }
   ],
   "source": [
    "results['653d264c']"
   ]
  },
  {
   "cell_type": "code",
   "execution_count": 125,
   "id": "b072bad9",
   "metadata": {},
   "outputs": [],
   "source": [
    "import re \n",
    "parsed_results = {}\n",
    "\n",
    "for doc_id, json_questions in results.items():\n",
    "    json_questions = re.sub(r'```json', '', json_questions)\n",
    "    json_questions = re.sub(r'```', '', json_questions)\n",
    "    parsed_results[doc_id] = json.loads(json_questions)"
   ]
  },
  {
   "cell_type": "code",
   "execution_count": 126,
   "id": "3725bc13",
   "metadata": {},
   "outputs": [],
   "source": [
    "doc_index = {d['id']: d for d in documents}"
   ]
  },
  {
   "cell_type": "code",
   "execution_count": 127,
   "id": "af5dc34f",
   "metadata": {},
   "outputs": [],
   "source": [
    "final_results = []\n",
    "\n",
    "for doc_id, questions in parsed_results.items():\n",
    "    for q in questions:\n",
    "        final_results.append((q, doc_id))"
   ]
  },
  {
   "cell_type": "code",
   "execution_count": 128,
   "id": "5d515340",
   "metadata": {},
   "outputs": [],
   "source": [
    "df = pd.DataFrame(final_results, columns=['question', 'document'])"
   ]
  },
  {
   "cell_type": "code",
   "execution_count": 129,
   "id": "ebdfc9fe",
   "metadata": {},
   "outputs": [],
   "source": [
    "df.to_csv('../data/ground-truth-data_2024_08_30.csv', index=False)"
   ]
  },
  {
   "cell_type": "code",
   "execution_count": 130,
   "id": "e74267d4",
   "metadata": {},
   "outputs": [
    {
     "name": "stdout",
     "output_type": "stream",
     "text": [
      "question,document\n",
      "Jak mogę założyć konto przez stronę internetową OLX?,2ddb5f16\n",
      "\"Jakie kroki muszę podjąć, żeby zarejestrować się w aplikacji mobilnej OLX?\",2ddb5f16\n",
      "\"Co powinienem zrobić, jeśli nie widzę grafiki podczas rejestracji na OLX?\",2ddb5f16\n",
      "\"Jakie wymagania musi spełniać hasło, gdy zakładam konto na OLX?\",2ddb5f16\n",
      "\"Co mam zrobić, jeśli nie dostanę linku aktywacyjnego po rejestracji na OLX?\",2ddb5f16\n",
      "Jak mogę zweryfikować swoje konto na OLX?,943a92e0\n",
      "Dlaczego nie otrzymałem SMS z kodem weryfikacyjnym?,943a92e0\n",
      "Ile czasu zajmuje otrzymanie SMS z kodem weryfikacyjnym?,943a92e0\n",
      "\"Co mam zrobić, jeśli nie otrzymałem kodu weryfikacyjnego od OLX?\",943a92e0\n"
     ]
    }
   ],
   "source": [
    "!head ../data/ground-truth-data_2024_08_30.csv"
   ]
  },
  {
   "cell_type": "markdown",
   "id": "e3392781",
   "metadata": {},
   "source": []
  }
 ],
 "metadata": {
  "kernelspec": {
   "display_name": "Python 3 (ipykernel)",
   "language": "python",
   "name": "python3"
  },
  "language_info": {
   "codemirror_mode": {
    "name": "ipython",
    "version": 3
   },
   "file_extension": ".py",
   "mimetype": "text/x-python",
   "name": "python",
   "nbconvert_exporter": "python",
   "pygments_lexer": "ipython3",
   "version": "3.10.14"
  }
 },
 "nbformat": 4,
 "nbformat_minor": 5
}
