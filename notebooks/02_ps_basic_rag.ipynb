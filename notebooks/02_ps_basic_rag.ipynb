{
 "cells": [
  {
   "cell_type": "markdown",
   "metadata": {},
   "source": [
    "# Creating a basic RAG\n",
    "\n",
    "\n"
   ]
  },
  {
   "cell_type": "markdown",
   "metadata": {},
   "source": [
    "\n",
    "## Getting the embeddings model\n",
    "\n",
    "Eval benchamrk for [polish sentences](https://github.com/sdadas/polish-sentence-evaluation).\n",
    "\n",
    "We shall experiment with the following:\n",
    "- `distiluse-base-multilingual-cased-v2`\n",
    "- `xlm-r-distilroberta-base-paraphrase-v1`\n",
    "- `xlm-r-bert-base-nli-stsb-mean-tokens`\n",
    "- `distilbert-multilingual-nli-stsb-quora-ranking`\n",
    "\n",
    "First, we will get the embeddings model `xlm-r-distilroberta-base-paraphrase-v1`. All come pretrained from [Sentence Transformers](https://www.sbert.net/docs/pretrained_models.html).\n"
   ]
  },
  {
   "cell_type": "code",
   "execution_count": 4,
   "metadata": {},
   "outputs": [
    {
     "name": "stderr",
     "output_type": "stream",
     "text": [
      "/Users/piotr/projects/llm-zoomcamp-project/.venv/lib/python3.10/site-packages/tqdm/auto.py:21: TqdmWarning: IProgress not found. Please update jupyter and ipywidgets. See https://ipywidgets.readthedocs.io/en/stable/user_install.html\n",
      "  from .autonotebook import tqdm as notebook_tqdm\n",
      "/Users/piotr/projects/llm-zoomcamp-project/.venv/lib/python3.10/site-packages/threadpoolctl.py:1214: RuntimeWarning: \n",
      "Found Intel OpenMP ('libiomp') and LLVM OpenMP ('libomp') loaded at\n",
      "the same time. Both libraries are known to be incompatible and this\n",
      "can cause random crashes or deadlocks on Linux when loaded in the\n",
      "same Python program.\n",
      "Using threadpoolctl may cause crashes or deadlocks. For more\n",
      "information and possible workarounds, please see\n",
      "    https://github.com/joblib/threadpoolctl/blob/master/multiple_openmp.md\n",
      "\n",
      "  warnings.warn(msg, RuntimeWarning)\n"
     ]
    }
   ],
   "source": [
    "from tqdm import tqdm\n",
    "from sentence_transformers import SentenceTransformer"
   ]
  },
  {
   "cell_type": "code",
   "execution_count": 5,
   "metadata": {},
   "outputs": [
    {
     "name": "stderr",
     "output_type": "stream",
     "text": [
      "/Users/piotr/projects/llm-zoomcamp-project/.venv/lib/python3.10/site-packages/huggingface_hub/file_download.py:1132: FutureWarning: `resume_download` is deprecated and will be removed in version 1.0.0. Downloads always resume when possible. If you want to force a new download, use `force_download=True`.\n",
      "  warnings.warn(\n",
      "Python(25757) MallocStackLogging: can't turn off malloc stack logging because it was not enabled.\n"
     ]
    }
   ],
   "source": [
    "model_name = 'xlm-r-distilroberta-base-paraphrase-v1'\n",
    "embedding_model = SentenceTransformer(model_name)"
   ]
  },
  {
   "cell_type": "code",
   "execution_count": 34,
   "metadata": {},
   "outputs": [],
   "source": [
    "\n",
    "user_question = \"Jak mogę usunąć swoje konto?\""
   ]
  },
  {
   "cell_type": "code",
   "execution_count": 35,
   "metadata": {},
   "outputs": [],
   "source": [
    "v = embedding_model.encode(user_question)"
   ]
  },
  {
   "cell_type": "markdown",
   "metadata": {
    "vscode": {
     "languageId": "plaintext"
    }
   },
   "source": [
    "## Prepare the documents\n",
    "\n",
    "Now we will create the embeddings for the documents.\n",
    "\n",
    "\n"
   ]
  },
  {
   "cell_type": "code",
   "execution_count": 1,
   "metadata": {},
   "outputs": [],
   "source": [
    "import requests \n",
    "import json\n",
    "\n",
    "with open('../data/documents-olx-2024_08_25-with-ids.json', 'r',  encoding='utf8') as f_in:\n",
    "     documents = json.load(f_in)"
   ]
  },
  {
   "cell_type": "code",
   "execution_count": 2,
   "metadata": {},
   "outputs": [
    {
     "data": {
      "text/plain": [
       "90"
      ]
     },
     "execution_count": 2,
     "metadata": {},
     "output_type": "execute_result"
    }
   ],
   "source": [
    "len(documents)"
   ]
  },
  {
   "cell_type": "markdown",
   "metadata": {},
   "source": [
    "\n",
    "## Q2. Creating the embeddings\n",
    "\n",
    "Now for each document, we will create an embedding for both question and answer fields.\n",
    "\n",
    "We want to put all of them into a single matrix `X`:\n",
    "\n",
    "- Create a list `embeddings` \n",
    "- Iterate over each document \n",
    "- `qa_text = f'{question} {text}'`\n",
    "- compute the embedding for `qa_text`, append to `embeddings`\n",
    "- At the end, let `X = np.array(embeddings)` (`import numpy as np`) \n",
    "\n",
    "What's the shape of X? (`X.shape`). Include the parantheses. \n",
    "\n",
    "\n"
   ]
  },
  {
   "cell_type": "code",
   "execution_count": 3,
   "metadata": {},
   "outputs": [],
   "source": [
    "import numpy as np"
   ]
  },
  {
   "cell_type": "code",
   "execution_count": 6,
   "metadata": {},
   "outputs": [],
   "source": [
    "#created the dense vector using the pre-trained model\n",
    "embeddings = []\n",
    "for doc in documents:\n",
    "    # Transforming the title into an embedding using the model\n",
    "    qa_text = f'{doc[\"question\"]} {doc[\"text\"]}'\n",
    "    embeddings.append(embedding_model.encode(qa_text).tolist())"
   ]
  },
  {
   "cell_type": "code",
   "execution_count": 7,
   "metadata": {},
   "outputs": [],
   "source": [
    "X = np.array(embeddings)"
   ]
  },
  {
   "cell_type": "code",
   "execution_count": 8,
   "metadata": {},
   "outputs": [
    {
     "data": {
      "text/plain": [
       "(90, 768)"
      ]
     },
     "execution_count": 8,
     "metadata": {},
     "output_type": "execute_result"
    }
   ],
   "source": [
    "X.shape"
   ]
  },
  {
   "cell_type": "code",
   "execution_count": null,
   "metadata": {},
   "outputs": [],
   "source": []
  },
  {
   "cell_type": "markdown",
   "metadata": {},
   "source": [
    "## Vector search\n",
    "\n",
    "We can now compute the similarity between a query vector and all the embeddings.\n"
   ]
  },
  {
   "cell_type": "code",
   "execution_count": 42,
   "metadata": {},
   "outputs": [
    {
     "data": {
      "text/plain": [
       "[{'text': 'Usunięcie konta OLX spowoduje, że jego odzyskanie nie będzie już możliwe. Wszystkie Twoje dane zostaną skasowane.\\nKrok 1. Zaloguj się na konto OLX.\\nKrok 2. Jeśli korzystasz z:\\nstrony internetowej OLX — kliknij Twoje konto → Ustawienia → Zarządzanie kontem.\\naplikacji mobilnej OLX — kliknij Konto → Ustawienia.\\nKrok 3. Kliknij przycisk Usuń konto → Wyślij e-mail.\\nKrok 4. Przejdź na adres e-mail powiązany z kontem OLX i potwierdź chęć usunięcia konta.\\nZmiana e-mail/danych kontaktowych\\nZmiana adresu e-mail\\nZmiana danych kontaktowych',\n",
       "  'section': 'Konto',\n",
       "  'question': 'Jak usunąć konto?',\n",
       "  'id': '4dcf8b35'},\n",
       " {'text': 'Użytkownik może posiadać tylko jedno Konto w Serwisie. Powyższa zasada nie dotyczy przypadków, gdy:\\nUżytkownik posiada jedno Konto służące do celów prywatnych oraz, z zastrzeżeniem podpunktu b poniżej, Konta służące do celów związanych z prowadzoną przez niego działalnością gospodarczą;\\nUżytkownik wykorzystuje różne Konta w zakresie prowadzonej przez niego działalności gospodarczej w związku z obsługą tych Kont przez różnych przedstawicieli lub oddziały prowadzonego przez Użytkownika przedsiębiorstwa, z zastrzeżeniem, że w zakresie żadnego z Kont nie istnieje opóźnienie w płatnościach z tytułu usług świadczonych przez Grupę OLX, a zamieszczane na Kontach Ogłoszenia nie powtarzają się w zakresie tych samych lokalizacji;\\nzaistnieje konieczność założenia kolejnego Konta z uwagi na brak możliwości uzyskania dostępu do Konta (zapomnienie hasła);\\nprzy czym wszystkie wyłączenia w tym zakresie będą szczegółowo weryfikowane przez Grupę OLX, która uprawniona jest do zawieszenia Konta na czas weryfikacji lub usunięcia Kont w przypadku braku potwierdzenia okoliczności uzasadniających zastosowanie powyższego wyłączenia. Powyższe wyłączenia nie mają zastosowania jeśli są wykorzystywane przez Użytkownika wyłącznie w celu do unikania płatności należności z tytułu świadczonych w ramach Serwisu usług.',\n",
       "  'section': 'Konta',\n",
       "  'question': 'Wiele kont użytkownika',\n",
       "  'id': 'd30e6624'},\n",
       " {'text': 'Umowa usługi Konta zostaje zawarta na czas nieokreślony z chwilą aktywacji Konta. Umowa usługi Konta może zostać rozwiązana przez Użytkownika z zachowaniem poniższych zasad:\\nprawo do usunięcia Konta pozostaje bez wpływu na uprawnienia Użytkownika do prawa odstąpienia lub wypowiedzenia umowy, przewidzianych przepisami prawa oraz niniejszym Regulaminem;\\nusunięcie Konta możliwe jest poprzez: (i) wybranie odpowiedniej opcji w panelu Konta, (ii) przesłanie oświadczenia o rozwiązaniu za pomocą formularza kontaktowego lub (iii) przesłanie oświadczenia o rozwiązaniu pisemnie na adres Grupy OLX;\\nwraz z usunięciem Konta przez Użytkownika wygasają pozostałe umowy łączące Grupę OLX z Użytkownikiem dotyczące usług świadczonych w ramach Serwisu;\\nrozwiązanie umowy Konta będzie skuteczne od chwili jego dokonania (na przyszłość), Grupa OLX dokona zwrotu Konsumentom równowartości niewykorzystanych kwot w ramach Usług Odpłatnych;\\nw przypadku, gdy Użytkownik ma zgromadzone środki na Portfelu OLX, rozwiązanie Konta jest możliwe tylko po uprzednim skontaktowaniu się z Grupą OLX za pomocą formularza kontaktowego celu wypłaty tych środków, o czym Użytkownik będzie informowany przy próbie usunięcia Konta wraz z rozwiązaniem umowy;\\npo usunięciu Konta albo rozwiązaniu umowy Konta, Użytkownik traci dostęp do informacji przekazanych lub wygenerowanych w toku korzystania z Serwisu.',\n",
       "  'section': 'Konta',\n",
       "  'question': 'Czas zawarcia umowy usługi konta',\n",
       "  'id': '0f5525bd'},\n",
       " {'text': 'Jeśli widzisz taki komunikat, odinstaluj aplikację OLX, a następnie zainstaluj ją ponownie na swoim urządzeniu.\\nWażne, aby aplikacja została usunięta po przejściu do Ustawienia → Aplikacje.',\n",
       "  'section': 'Konto',\n",
       "  'question': 'Błąd podczas logowania',\n",
       "  'id': '0b78fb57'},\n",
       " {'text': 'jak również w przypadku, w którym Ogłoszenie negatywnie wpływa na dobre imię Grupy OLX lub w inny sposób szkodzi Grupie OLX.',\n",
       "  'section': 'Bezprawne i niezgodne z Regulaminem działania Użytkowników',\n",
       "  'question': 'Grupa OLX uprawniona jest do usunięcia Ogłoszenia lub zablokowania Konta jeśli zaistniało podejrzenie, że za pośrednictwem Ogłoszenia lub Konta mogło lub może dojść do działań zagrażających bezpieczeństwu innych Użytkowników w ramach Serwisu,',\n",
       "  'id': '6a293a6d'}]"
      ]
     },
     "execution_count": 42,
     "metadata": {},
     "output_type": "execute_result"
    }
   ],
   "source": [
    "class VectorSearchEngine():\n",
    "    def __init__(self, documents, embeddings):\n",
    "        self.documents = documents\n",
    "        self.embeddings = embeddings\n",
    "\n",
    "    def search(self, v_query, num_results=10):\n",
    "        scores = self.embeddings.dot(v_query)\n",
    "        idx = np.argsort(-scores)[:num_results]\n",
    "        return [self.documents[i] for i in idx]\n",
    "\n",
    "search_engine = VectorSearchEngine(documents=documents, embeddings=X)\n",
    "search_engine.search(v, num_results=5)"
   ]
  },
  {
   "cell_type": "markdown",
   "metadata": {},
   "source": [
    "## Hit-rate for our search engine\n",
    "\n",
    "Let's evaluate the performance of our own search engine. We will\n",
    "use the hitrate metric for evaluation.\n",
    "\n",
    "** TO DO **\n",
    "\n",
    "Get ground truth data from the `data` folder.\n",
    "\n",
    "** TO DO **\n",
    "\n",
    "Calculate hitrate for the search engine.\n",
    "\n",
    "** TO DO **\n",
    "\n",
    "Calculate the mrr for the search engine."
   ]
  },
  {
   "cell_type": "code",
   "execution_count": 20,
   "metadata": {},
   "outputs": [
    {
     "name": "stderr",
     "output_type": "stream",
     "text": [
      "100%|██████████| 1830/1830 [01:07<00:00, 27.28it/s]\n"
     ]
    }
   ],
   "source": [
    "relevance_total = []\n",
    "\n",
    "for q in tqdm(ground_truth):\n",
    "    doc_id = q['document']\n",
    "    results = search_engine.search(embedding_model.encode(q['question']), num_results=5)\n",
    "    relevance = [d['id'] == doc_id for d in results]\n",
    "    relevance_total.append(relevance)"
   ]
  },
  {
   "cell_type": "code",
   "execution_count": 22,
   "metadata": {},
   "outputs": [],
   "source": [
    "def hit_rate(relevance_total):\n",
    "    cnt = 0\n",
    "\n",
    "    for line in relevance_total:\n",
    "        if True in line:\n",
    "            cnt = cnt + 1\n",
    "\n",
    "    return cnt / len(relevance_total)"
   ]
  },
  {
   "cell_type": "code",
   "execution_count": 23,
   "metadata": {},
   "outputs": [],
   "source": [
    "def mrr(relevance_total):\n",
    "    total_score = 0.0\n",
    "\n",
    "    for line in relevance_total:\n",
    "        for rank in range(len(line)):\n",
    "            if line[rank] == True:\n",
    "                total_score = total_score + 1 / (rank + 1)\n",
    "\n",
    "    return total_score / len(relevance_total)"
   ]
  },
  {
   "cell_type": "code",
   "execution_count": 24,
   "metadata": {},
   "outputs": [
    {
     "data": {
      "text/plain": [
       "(0.9398907103825137, 0.8516484517304189)"
      ]
     },
     "execution_count": 24,
     "metadata": {},
     "output_type": "execute_result"
    }
   ],
   "source": [
    "hit_rate(relevance_total), mrr(relevance_total)"
   ]
  },
  {
   "cell_type": "markdown",
   "metadata": {},
   "source": [
    "## Indexing with Elasticsearch\n",
    "\n",
    "Now let's index these documents with elasticsearch\n",
    "\n",
    "* Create the index with the same settings as in the module (but change the dimensions)\n",
    "* Index the embeddings (note: you've already computed them)\n",
    "\n",
    "After indexing, let's perform the search of the same query from Q1.\n",
    "\n",
    "What's the ID of the document with the highest score?\n",
    "\n"
   ]
  },
  {
   "cell_type": "code",
   "execution_count": 9,
   "metadata": {},
   "outputs": [],
   "source": [
    "from elasticsearch import Elasticsearch\n",
    "from datetime import datetime\n",
    "\n",
    "es_client = Elasticsearch('http://localhost:9200') "
   ]
  },
  {
   "cell_type": "code",
   "execution_count": 10,
   "metadata": {},
   "outputs": [
    {
     "name": "stdout",
     "output_type": "stream",
     "text": [
      "index name: documents_olx_20240907_0504\n"
     ]
    }
   ],
   "source": [
    "index_name_prefix = 'documents_olx'\n",
    "current_time = datetime.now().strftime(\"%Y%m%d_%M%S\")\n",
    "index_name = f\"{index_name_prefix}_{current_time}\"\n",
    "print(\"index name:\", index_name)"
   ]
  },
  {
   "cell_type": "code",
   "execution_count": null,
   "metadata": {},
   "outputs": [],
   "source": []
  },
  {
   "cell_type": "code",
   "execution_count": 11,
   "metadata": {},
   "outputs": [
    {
     "data": {
      "text/plain": [
       "ObjectApiResponse({'acknowledged': True, 'shards_acknowledged': True, 'index': 'documents_olx_20240907_0504'})"
      ]
     },
     "execution_count": 11,
     "metadata": {},
     "output_type": "execute_result"
    }
   ],
   "source": [
    "index_settings = {\n",
    "    \"settings\": {\n",
    "        \"number_of_shards\": 1,\n",
    "        \"number_of_replicas\": 0\n",
    "    },\n",
    "    \"mappings\": {\n",
    "        \"properties\": {\n",
    "            \"text\": {\"type\": \"text\"},\n",
    "            \"section\": {\"type\": \"text\"},\n",
    "            \"question\": {\"type\": \"text\"},\n",
    "            \"course\": {\"type\": \"keyword\"},\n",
    "            \"id\": {\"type\": \"keyword\"},\n",
    "            \"question_vector\": {\n",
    "                \"type\": \"dense_vector\",\n",
    "                \"dims\": 768,\n",
    "                \"index\": True,\n",
    "                \"similarity\": \"cosine\"\n",
    "            },\n",
    "            \"text_vector\": {\n",
    "                \"type\": \"dense_vector\",\n",
    "                \"dims\": 768,\n",
    "                \"index\": True,\n",
    "                \"similarity\": \"cosine\"\n",
    "            },\n",
    "            \"question_text_vector\": {\n",
    "                \"type\": \"dense_vector\",\n",
    "                \"dims\": 768,\n",
    "                \"index\": True,\n",
    "                \"similarity\": \"cosine\"\n",
    "            },\n",
    "        }\n",
    "    }\n",
    "}\n",
    "\n",
    "\n",
    "\n",
    "es_client.indices.delete(index=index_name, ignore_unavailable=True)\n",
    "es_client.indices.create(index=index_name, body=index_settings)"
   ]
  },
  {
   "cell_type": "code",
   "execution_count": 12,
   "metadata": {},
   "outputs": [
    {
     "data": {
      "text/plain": [
       "90"
      ]
     },
     "execution_count": 12,
     "metadata": {},
     "output_type": "execute_result"
    }
   ],
   "source": [
    "len(documents)"
   ]
  },
  {
   "cell_type": "code",
   "execution_count": 13,
   "metadata": {},
   "outputs": [
    {
     "name": "stderr",
     "output_type": "stream",
     "text": [
      "0it [00:00, ?it/s]"
     ]
    },
    {
     "name": "stderr",
     "output_type": "stream",
     "text": [
      "90it [00:42,  2.13it/s]\n"
     ]
    }
   ],
   "source": [
    "for doc, embedding in tqdm(zip(documents, embeddings)):\n",
    "    question = doc['question']\n",
    "    text = doc['text']\n",
    "    qt = question + ' ' + text\n",
    "\n",
    "    doc['question_vector'] = embedding_model.encode(question)\n",
    "    doc['text_vector'] = embedding_model.encode(text)\n",
    "    doc['question_text_vector'] = embedding_model.encode(qt)"
   ]
  },
  {
   "cell_type": "code",
   "execution_count": 50,
   "metadata": {},
   "outputs": [
    {
     "data": {
      "text/plain": [
       "dict_keys(['text', 'section', 'question', 'id', 'question_vector', 'text_vector', 'question_text_vector'])"
      ]
     },
     "execution_count": 50,
     "metadata": {},
     "output_type": "execute_result"
    }
   ],
   "source": [
    "documents[0].keys()"
   ]
  },
  {
   "cell_type": "markdown",
   "metadata": {},
   "source": []
  },
  {
   "cell_type": "code",
   "execution_count": 54,
   "metadata": {},
   "outputs": [
    {
     "name": "stderr",
     "output_type": "stream",
     "text": [
      "100%|██████████| 90/90 [00:02<00:00, 43.24it/s]\n"
     ]
    }
   ],
   "source": [
    "from tqdm.auto import tqdm\n",
    "\n",
    "for doc in tqdm(documents):\n",
    "    es_client.index(index=index_name, document=doc)"
   ]
  },
  {
   "cell_type": "code",
   "execution_count": 55,
   "metadata": {},
   "outputs": [
    {
     "data": {
      "text/plain": [
       "[{'_index': 'documents_olx_20240829_5014',\n",
       "  '_id': 'PJv4nZEBcxG-ujiI-xmj',\n",
       "  '_score': 0.7219515,\n",
       "  '_source': {'question': 'Jak usunąć konto?',\n",
       "   'section': 'Konto',\n",
       "   'text': 'Usunięcie konta OLX spowoduje, że jego odzyskanie nie będzie już możliwe. Wszystkie Twoje dane zostaną skasowane.\\nKrok 1. Zaloguj się na konto OLX.\\nKrok 2. Jeśli korzystasz z:\\nstrony internetowej OLX — kliknij Twoje konto → Ustawienia → Zarządzanie kontem.\\naplikacji mobilnej OLX — kliknij Konto → Ustawienia.\\nKrok 3. Kliknij przycisk Usuń konto → Wyślij e-mail.\\nKrok 4. Przejdź na adres e-mail powiązany z kontem OLX i potwierdź chęć usunięcia konta.\\nZmiana e-mail/danych kontaktowych\\nZmiana adresu e-mail\\nZmiana danych kontaktowych',\n",
       "   'id': '4dcf8b35'}},\n",
       " {'_index': 'documents_olx_20240829_5014',\n",
       "  '_id': 'c5v4nZEBcxG-ujiI_hnJ',\n",
       "  '_score': 0.6761112,\n",
       "  '_source': {'question': 'Wiele kont użytkownika',\n",
       "   'section': 'Konta',\n",
       "   'text': 'Użytkownik może posiadać tylko jedno Konto w Serwisie. Powyższa zasada nie dotyczy przypadków, gdy:\\nUżytkownik posiada jedno Konto służące do celów prywatnych oraz, z zastrzeżeniem podpunktu b poniżej, Konta służące do celów związanych z prowadzoną przez niego działalnością gospodarczą;\\nUżytkownik wykorzystuje różne Konta w zakresie prowadzonej przez niego działalności gospodarczej w związku z obsługą tych Kont przez różnych przedstawicieli lub oddziały prowadzonego przez Użytkownika przedsiębiorstwa, z zastrzeżeniem, że w zakresie żadnego z Kont nie istnieje opóźnienie w płatnościach z tytułu usług świadczonych przez Grupę OLX, a zamieszczane na Kontach Ogłoszenia nie powtarzają się w zakresie tych samych lokalizacji;\\nzaistnieje konieczność założenia kolejnego Konta z uwagi na brak możliwości uzyskania dostępu do Konta (zapomnienie hasła);\\nprzy czym wszystkie wyłączenia w tym zakresie będą szczegółowo weryfikowane przez Grupę OLX, która uprawniona jest do zawieszenia Konta na czas weryfikacji lub usunięcia Kont w przypadku braku potwierdzenia okoliczności uzasadniających zastosowanie powyższego wyłączenia. Powyższe wyłączenia nie mają zastosowania jeśli są wykorzystywane przez Użytkownika wyłącznie w celu do unikania płatności należności z tytułu świadczonych w ramach Serwisu usług.',\n",
       "   'id': 'd30e6624'}},\n",
       " {'_index': 'documents_olx_20240829_5014',\n",
       "  '_id': 'epv4nZEBcxG-ujiI_xlT',\n",
       "  '_score': 0.6662226,\n",
       "  '_source': {'question': 'Czas zawarcia umowy usługi konta',\n",
       "   'section': 'Konta',\n",
       "   'text': 'Umowa usługi Konta zostaje zawarta na czas nieokreślony z chwilą aktywacji Konta. Umowa usługi Konta może zostać rozwiązana przez Użytkownika z zachowaniem poniższych zasad:\\nprawo do usunięcia Konta pozostaje bez wpływu na uprawnienia Użytkownika do prawa odstąpienia lub wypowiedzenia umowy, przewidzianych przepisami prawa oraz niniejszym Regulaminem;\\nusunięcie Konta możliwe jest poprzez: (i) wybranie odpowiedniej opcji w panelu Konta, (ii) przesłanie oświadczenia o rozwiązaniu za pomocą formularza kontaktowego lub (iii) przesłanie oświadczenia o rozwiązaniu pisemnie na adres Grupy OLX;\\nwraz z usunięciem Konta przez Użytkownika wygasają pozostałe umowy łączące Grupę OLX z Użytkownikiem dotyczące usług świadczonych w ramach Serwisu;\\nrozwiązanie umowy Konta będzie skuteczne od chwili jego dokonania (na przyszłość), Grupa OLX dokona zwrotu Konsumentom równowartości niewykorzystanych kwot w ramach Usług Odpłatnych;\\nw przypadku, gdy Użytkownik ma zgromadzone środki na Portfelu OLX, rozwiązanie Konta jest możliwe tylko po uprzednim skontaktowaniu się z Grupą OLX za pomocą formularza kontaktowego celu wypłaty tych środków, o czym Użytkownik będzie informowany przy próbie usunięcia Konta wraz z rozwiązaniem umowy;\\npo usunięciu Konta albo rozwiązaniu umowy Konta, Użytkownik traci dostęp do informacji przekazanych lub wygenerowanych w toku korzystania z Serwisu.',\n",
       "   'id': '0f5525bd'}},\n",
       " {'_index': 'documents_olx_20240829_5014',\n",
       "  '_id': 'X5v4nZEBcxG-ujiI_RmC',\n",
       "  '_score': 0.6633599,\n",
       "  '_source': {'question': 'Czy oceny można usunąć? Kiedy i w jaki sposób?',\n",
       "   'section': 'System ocen',\n",
       "   'text': 'Tak, oceny mogą zostać usunięte, ale wyłącznie przez OLX i tylko wtedy, gdy nie są zgodne z naszym Regulaminem lub z przepisami prawa. Sprzedający ani kupujący nie mogą samodzielnie usuwać ocen.  Aby ocena została usunięta konieczne jest wskazanie powodu usunięcia, a także uzasadnienia, które to potwierdzi.\\nPowód usunięcia\\nWyjaśnienie\\nNieprawdziwa ocena\\nOcena nie odzwierciedla rzeczywistego przebiegu Transakcji lub zawiera fałszywe lub nieuczciwe oskarżenie wobec sprzedającego (pkt 14a.11.a Regulaminu OLX).\\nOcena nie dotyczy transakcji\\nOcena nie dotyczy przebiegu transakcji z Przesyłką OLX z danym sprzedającym. Ocena mogła odnosić się do innej transakcji, stanowić recenzję nabytego towaru albo odnosić się do OLX (pkt 14a.11.b Regulaminu OLX).\\nSamoocena\\nJedno lub kilka kont zostało utworzonych w celu sztucznego podwyższenia oceny sprzedającego (pkt 14a.11.c Regulaminu OLX).\\nBłąd kupującego\\nOcena usunięta z powodu pomyłki lub przypadkowego wystawienia oceny niewłaściwemu sprzedającemu za zgodą kupującego (pkt 14a.11.d Regulaminu OLX).\\nSztuczna ocena\\nOcena wystawiona w celu sztucznego zawyżenia lub zaniżenia ogólnej oceny sprzedającego (pkt 14a.11.e Regulaminu OLX).\\nOcena z niewiarygodnego konta\\nOcena wystawiona została z konta utworzonego na podstawie tymczasowego adresu e-mail\\n(pkt 14a.11.f Regulaminu OLX).\\nOcena wystawiona automatycznie\\nOcena została wystawiona w sposób wskazujący na zautomatyzowanie wystawienia (pkt 14a.11.g Regulaminu OLX).\\nOcena wystawiona za korzyść\\nOcena została wystawiona w zamian za korzyść, np. rabat albo gratis, (pkt 14a.11.h Regulaminu OLX).\\nOcena naruszająca prawo lub regulamin OLX\\nOcena wystawiona z naruszeniem innych postanowień regulaminu OLX lub przepisów prawa (pkt 14a.11.i Regulaminu OLX).\\nJako sprzedający możesz w dowolnym momencie poprosić nas o usunięcie oceny. Oto, jak to zrobisz:\\nSkontaktuj się z nami za pomocą Centrum Pomocy;\\nWskaż ocenę, którą chcesz, abyśmy usunęli (identyfikator (ID) ogłoszenia, tytuł ogłoszenia, data wystawienia oceny, nazwę użytkownika);\\nWyjaśnij, dlaczego chcesz, abyśmy usunęli ocenę i wskaż stosowne dowody na uzasadnienie usunięcia oceny.\\nRozpatrzymy dokładnie Twoją sprawę i poinformujemy Cię o naszej decyzji w ciągu 14 dni. Jeżeli potwierdzimy, że istnieje ważny, wskazany w Regulaminie powód, aby usunąć ocenę:\\nZarówno Ty, jak i kupujący zostaniecie o tym powiadomieni poprzez wiadomość e-mail. Powód usunięcia oceny jest zawsze udostępniany kupującemu i sprzedającemu.\\nOcena zostanie usunięta z profilu sprzedającego.\\nOcena nie będzie zaliczana do obliczenia oceny sprzedającego.\\nOcena sprzedającego zostanie obliczona ponownie.\\nZarówno Ty, jak i kupujący będziecie mogli nadal zobaczyć ocenę w zakładce Otrzymane oceny i Wystawione oceny – ocena będzie mieć oznaczenie „Usunięto” i będzie widoczna tylko dla Ciebie i\\nkupującego wraz z powodem usunięcia.\\nNależy pamiętać: Jeśli otrzymana ocena zostanie usunięta, kupujący nie będzie mógł ponownie wystawić Ci oceny dotyczącej tej konkretnej sprzedaży.\\nJako kupujący możesz także poprosić nas o usunięcie oceny, którą wystawiłeś w przeszłości. Oto, jak to zrobisz:\\nSkontaktuj się z nami za pomocą Centrum Pomocy;\\nWskaż ocenę, którą chcesz, abyśmy usunęli (tytuł ogłoszenia, data wystawienia oceny, nazwę użytkownika);\\nWyjaśnij, dlaczego chcesz, abyśmy usunęli ocenę.\\nRozpatrzymy dokładnie Twoją sprawę i poinformujemy Cię o naszej decyzji w ciągu 14 dni. Jeżeli potwierdzimy, że istnieje ważny i wskazany w Regulaminie powód, aby usunąć ocenę:\\nZarówno Ty, jak i sprzedający zostaniecie o tym powiadomieni poprzez wiadomość e-mail. Powód usunięcia oceny jest zawsze udostępniany sprzedającemu.\\nOcena zostanie usunięta z profilu sprzedającego.\\nOcena nie będzie zaliczana do obliczenia oceny sprzedającego.\\nOcena sprzedającego zostanie obliczona ponownie.\\nZarówno Ty, jak i sprzedający będziecie mogli nadal zobaczyć ocenę w zakładce Otrzymane oceny i Wystawione oceny – ocena będzie mieć oznaczenie „Usunięto” i będzie widoczna tylko dla Ciebie i sprzedającego wraz z powodem usunięcia.\\nNależy pamiętać: Jeśli wystawiona ocena zostanie usunięta, nie będziesz mógł ponownie ocenić sprzedającego w związku z tą konkretną sprzedażą.',\n",
       "   'id': '01f95cb6'}},\n",
       " {'_index': 'documents_olx_20240829_5014',\n",
       "  '_id': 'dpv4nZEBcxG-ujiI_xkN',\n",
       "  '_score': 0.6576301,\n",
       "  '_source': {'question': 'Aktywacja konta',\n",
       "   'section': 'Konta',\n",
       "   'text': 'Po wypełnieniu danych wymaganych do Rejestracji na adres email wskazany przez Użytkownika przesłane zostanie potwierdzenie Rejestracji Konta, link do aktywacji Konta oraz aktualny Regulamin. Rejestracja zostaje zakończona w momencie aktywacji Konta przez Użytkownika. Z tym momentem dochodzi do zawarcia umowy usługi Konta. W przypadku niedokonania aktywacji w ciągu 30 Dni od otrzymania emaila potwierdzającego Rejestrację Konta, link aktywacyjny wygasa a Konto nie zostaje aktywowane. Korzystający może dokonać Rejestracji od nowa z wykorzystaniem tego samego adresu email dopiero po uprzednim skontaktowaniu się z Grupą OLX: za pomocą formularza kontaktowego.',\n",
       "   'id': '33813c2c'}}]"
      ]
     },
     "execution_count": 55,
     "metadata": {},
     "output_type": "execute_result"
    }
   ],
   "source": [
    "query = {\n",
    "    \"field\" : \"question_text_vector\",\n",
    "    \"query_vector\" :  v,\n",
    "    \"k\" : 5,\n",
    "    \"num_candidates\" : 10000, \n",
    "}\n",
    "\n",
    "res = es_client.search(index=index_name, \n",
    "                       knn=query,\n",
    "                       source=[\"text\",\"section\",\"question\",\"course\", \"id\"])\n",
    "res[\"hits\"][\"hits\"]"
   ]
  },
  {
   "cell_type": "code",
   "execution_count": 56,
   "metadata": {},
   "outputs": [],
   "source": [
    "def elastic_search_knn(field, vector, index_name):\n",
    "    knn = {\n",
    "        \"field\": field,\n",
    "        \"query_vector\": vector,\n",
    "        \"k\": 5,\n",
    "        \"num_candidates\": 10000,\n",
    "    }\n",
    "\n",
    "    search_query = {\n",
    "        \"knn\": knn,\n",
    "        \"_source\": [\"text\", \"section\", \"question\", \"course\", \"id\"]\n",
    "    }\n",
    "\n",
    "    es_results = es_client.search(\n",
    "        index=index_name,\n",
    "        body=search_query\n",
    "    )\n",
    "    \n",
    "    result_docs = []\n",
    "    \n",
    "    for hit in es_results['hits']['hits']:\n",
    "        result_docs.append(hit['_source'])\n",
    "\n",
    "    return result_docs"
   ]
  },
  {
   "cell_type": "code",
   "execution_count": 57,
   "metadata": {},
   "outputs": [],
   "source": [
    "search_results = elastic_search_knn(\"question_text_vector\", v, index_name)"
   ]
  },
  {
   "cell_type": "code",
   "execution_count": 58,
   "metadata": {},
   "outputs": [
    {
     "data": {
      "text/plain": [
       "[{'question': 'Jak usunąć konto?',\n",
       "  'section': 'Konto',\n",
       "  'text': 'Usunięcie konta OLX spowoduje, że jego odzyskanie nie będzie już możliwe. Wszystkie Twoje dane zostaną skasowane.\\nKrok 1. Zaloguj się na konto OLX.\\nKrok 2. Jeśli korzystasz z:\\nstrony internetowej OLX — kliknij Twoje konto → Ustawienia → Zarządzanie kontem.\\naplikacji mobilnej OLX — kliknij Konto → Ustawienia.\\nKrok 3. Kliknij przycisk Usuń konto → Wyślij e-mail.\\nKrok 4. Przejdź na adres e-mail powiązany z kontem OLX i potwierdź chęć usunięcia konta.\\nZmiana e-mail/danych kontaktowych\\nZmiana adresu e-mail\\nZmiana danych kontaktowych',\n",
       "  'id': '4dcf8b35'},\n",
       " {'question': 'Wiele kont użytkownika',\n",
       "  'section': 'Konta',\n",
       "  'text': 'Użytkownik może posiadać tylko jedno Konto w Serwisie. Powyższa zasada nie dotyczy przypadków, gdy:\\nUżytkownik posiada jedno Konto służące do celów prywatnych oraz, z zastrzeżeniem podpunktu b poniżej, Konta służące do celów związanych z prowadzoną przez niego działalnością gospodarczą;\\nUżytkownik wykorzystuje różne Konta w zakresie prowadzonej przez niego działalności gospodarczej w związku z obsługą tych Kont przez różnych przedstawicieli lub oddziały prowadzonego przez Użytkownika przedsiębiorstwa, z zastrzeżeniem, że w zakresie żadnego z Kont nie istnieje opóźnienie w płatnościach z tytułu usług świadczonych przez Grupę OLX, a zamieszczane na Kontach Ogłoszenia nie powtarzają się w zakresie tych samych lokalizacji;\\nzaistnieje konieczność założenia kolejnego Konta z uwagi na brak możliwości uzyskania dostępu do Konta (zapomnienie hasła);\\nprzy czym wszystkie wyłączenia w tym zakresie będą szczegółowo weryfikowane przez Grupę OLX, która uprawniona jest do zawieszenia Konta na czas weryfikacji lub usunięcia Kont w przypadku braku potwierdzenia okoliczności uzasadniających zastosowanie powyższego wyłączenia. Powyższe wyłączenia nie mają zastosowania jeśli są wykorzystywane przez Użytkownika wyłącznie w celu do unikania płatności należności z tytułu świadczonych w ramach Serwisu usług.',\n",
       "  'id': 'd30e6624'},\n",
       " {'question': 'Czas zawarcia umowy usługi konta',\n",
       "  'section': 'Konta',\n",
       "  'text': 'Umowa usługi Konta zostaje zawarta na czas nieokreślony z chwilą aktywacji Konta. Umowa usługi Konta może zostać rozwiązana przez Użytkownika z zachowaniem poniższych zasad:\\nprawo do usunięcia Konta pozostaje bez wpływu na uprawnienia Użytkownika do prawa odstąpienia lub wypowiedzenia umowy, przewidzianych przepisami prawa oraz niniejszym Regulaminem;\\nusunięcie Konta możliwe jest poprzez: (i) wybranie odpowiedniej opcji w panelu Konta, (ii) przesłanie oświadczenia o rozwiązaniu za pomocą formularza kontaktowego lub (iii) przesłanie oświadczenia o rozwiązaniu pisemnie na adres Grupy OLX;\\nwraz z usunięciem Konta przez Użytkownika wygasają pozostałe umowy łączące Grupę OLX z Użytkownikiem dotyczące usług świadczonych w ramach Serwisu;\\nrozwiązanie umowy Konta będzie skuteczne od chwili jego dokonania (na przyszłość), Grupa OLX dokona zwrotu Konsumentom równowartości niewykorzystanych kwot w ramach Usług Odpłatnych;\\nw przypadku, gdy Użytkownik ma zgromadzone środki na Portfelu OLX, rozwiązanie Konta jest możliwe tylko po uprzednim skontaktowaniu się z Grupą OLX za pomocą formularza kontaktowego celu wypłaty tych środków, o czym Użytkownik będzie informowany przy próbie usunięcia Konta wraz z rozwiązaniem umowy;\\npo usunięciu Konta albo rozwiązaniu umowy Konta, Użytkownik traci dostęp do informacji przekazanych lub wygenerowanych w toku korzystania z Serwisu.',\n",
       "  'id': '0f5525bd'},\n",
       " {'question': 'Czy oceny można usunąć? Kiedy i w jaki sposób?',\n",
       "  'section': 'System ocen',\n",
       "  'text': 'Tak, oceny mogą zostać usunięte, ale wyłącznie przez OLX i tylko wtedy, gdy nie są zgodne z naszym Regulaminem lub z przepisami prawa. Sprzedający ani kupujący nie mogą samodzielnie usuwać ocen.  Aby ocena została usunięta konieczne jest wskazanie powodu usunięcia, a także uzasadnienia, które to potwierdzi.\\nPowód usunięcia\\nWyjaśnienie\\nNieprawdziwa ocena\\nOcena nie odzwierciedla rzeczywistego przebiegu Transakcji lub zawiera fałszywe lub nieuczciwe oskarżenie wobec sprzedającego (pkt 14a.11.a Regulaminu OLX).\\nOcena nie dotyczy transakcji\\nOcena nie dotyczy przebiegu transakcji z Przesyłką OLX z danym sprzedającym. Ocena mogła odnosić się do innej transakcji, stanowić recenzję nabytego towaru albo odnosić się do OLX (pkt 14a.11.b Regulaminu OLX).\\nSamoocena\\nJedno lub kilka kont zostało utworzonych w celu sztucznego podwyższenia oceny sprzedającego (pkt 14a.11.c Regulaminu OLX).\\nBłąd kupującego\\nOcena usunięta z powodu pomyłki lub przypadkowego wystawienia oceny niewłaściwemu sprzedającemu za zgodą kupującego (pkt 14a.11.d Regulaminu OLX).\\nSztuczna ocena\\nOcena wystawiona w celu sztucznego zawyżenia lub zaniżenia ogólnej oceny sprzedającego (pkt 14a.11.e Regulaminu OLX).\\nOcena z niewiarygodnego konta\\nOcena wystawiona została z konta utworzonego na podstawie tymczasowego adresu e-mail\\n(pkt 14a.11.f Regulaminu OLX).\\nOcena wystawiona automatycznie\\nOcena została wystawiona w sposób wskazujący na zautomatyzowanie wystawienia (pkt 14a.11.g Regulaminu OLX).\\nOcena wystawiona za korzyść\\nOcena została wystawiona w zamian za korzyść, np. rabat albo gratis, (pkt 14a.11.h Regulaminu OLX).\\nOcena naruszająca prawo lub regulamin OLX\\nOcena wystawiona z naruszeniem innych postanowień regulaminu OLX lub przepisów prawa (pkt 14a.11.i Regulaminu OLX).\\nJako sprzedający możesz w dowolnym momencie poprosić nas o usunięcie oceny. Oto, jak to zrobisz:\\nSkontaktuj się z nami za pomocą Centrum Pomocy;\\nWskaż ocenę, którą chcesz, abyśmy usunęli (identyfikator (ID) ogłoszenia, tytuł ogłoszenia, data wystawienia oceny, nazwę użytkownika);\\nWyjaśnij, dlaczego chcesz, abyśmy usunęli ocenę i wskaż stosowne dowody na uzasadnienie usunięcia oceny.\\nRozpatrzymy dokładnie Twoją sprawę i poinformujemy Cię o naszej decyzji w ciągu 14 dni. Jeżeli potwierdzimy, że istnieje ważny, wskazany w Regulaminie powód, aby usunąć ocenę:\\nZarówno Ty, jak i kupujący zostaniecie o tym powiadomieni poprzez wiadomość e-mail. Powód usunięcia oceny jest zawsze udostępniany kupującemu i sprzedającemu.\\nOcena zostanie usunięta z profilu sprzedającego.\\nOcena nie będzie zaliczana do obliczenia oceny sprzedającego.\\nOcena sprzedającego zostanie obliczona ponownie.\\nZarówno Ty, jak i kupujący będziecie mogli nadal zobaczyć ocenę w zakładce Otrzymane oceny i Wystawione oceny – ocena będzie mieć oznaczenie „Usunięto” i będzie widoczna tylko dla Ciebie i\\nkupującego wraz z powodem usunięcia.\\nNależy pamiętać: Jeśli otrzymana ocena zostanie usunięta, kupujący nie będzie mógł ponownie wystawić Ci oceny dotyczącej tej konkretnej sprzedaży.\\nJako kupujący możesz także poprosić nas o usunięcie oceny, którą wystawiłeś w przeszłości. Oto, jak to zrobisz:\\nSkontaktuj się z nami za pomocą Centrum Pomocy;\\nWskaż ocenę, którą chcesz, abyśmy usunęli (tytuł ogłoszenia, data wystawienia oceny, nazwę użytkownika);\\nWyjaśnij, dlaczego chcesz, abyśmy usunęli ocenę.\\nRozpatrzymy dokładnie Twoją sprawę i poinformujemy Cię o naszej decyzji w ciągu 14 dni. Jeżeli potwierdzimy, że istnieje ważny i wskazany w Regulaminie powód, aby usunąć ocenę:\\nZarówno Ty, jak i sprzedający zostaniecie o tym powiadomieni poprzez wiadomość e-mail. Powód usunięcia oceny jest zawsze udostępniany sprzedającemu.\\nOcena zostanie usunięta z profilu sprzedającego.\\nOcena nie będzie zaliczana do obliczenia oceny sprzedającego.\\nOcena sprzedającego zostanie obliczona ponownie.\\nZarówno Ty, jak i sprzedający będziecie mogli nadal zobaczyć ocenę w zakładce Otrzymane oceny i Wystawione oceny – ocena będzie mieć oznaczenie „Usunięto” i będzie widoczna tylko dla Ciebie i sprzedającego wraz z powodem usunięcia.\\nNależy pamiętać: Jeśli wystawiona ocena zostanie usunięta, nie będziesz mógł ponownie ocenić sprzedającego w związku z tą konkretną sprzedażą.',\n",
       "  'id': '01f95cb6'},\n",
       " {'question': 'Aktywacja konta',\n",
       "  'section': 'Konta',\n",
       "  'text': 'Po wypełnieniu danych wymaganych do Rejestracji na adres email wskazany przez Użytkownika przesłane zostanie potwierdzenie Rejestracji Konta, link do aktywacji Konta oraz aktualny Regulamin. Rejestracja zostaje zakończona w momencie aktywacji Konta przez Użytkownika. Z tym momentem dochodzi do zawarcia umowy usługi Konta. W przypadku niedokonania aktywacji w ciągu 30 Dni od otrzymania emaila potwierdzającego Rejestrację Konta, link aktywacyjny wygasa a Konto nie zostaje aktywowane. Korzystający może dokonać Rejestracji od nowa z wykorzystaniem tego samego adresu email dopiero po uprzednim skontaktowaniu się z Grupą OLX: za pomocą formularza kontaktowego.',\n",
       "  'id': '33813c2c'}]"
      ]
     },
     "execution_count": 58,
     "metadata": {},
     "output_type": "execute_result"
    }
   ],
   "source": [
    "search_results"
   ]
  },
  {
   "cell_type": "markdown",
   "metadata": {},
   "source": [
    "## Prompt building"
   ]
  },
  {
   "cell_type": "code",
   "execution_count": 59,
   "metadata": {},
   "outputs": [],
   "source": [
    "def build_prompt(query, search_results):\n",
    "    prompt_template = \"\"\"\n",
    "Jesteś pracownikiem działu obsługi klienta firmy OLX. \n",
    "Odpowiedz na PYTANIE klienta bazując na KONTEKST pochodzący z bazy danych częstych pytań i odpowiedzi oraz regulaminu serwisu.\n",
    "Bazuj jedynie na wiedzy z KONTEKST kiedy odpowiadasz na PYTANIE.\n",
    "\n",
    "PYTANIE: {question}\n",
    "\n",
    "KONTEKST: \n",
    "{context}\n",
    "\"\"\".strip()\n",
    "\n",
    "    context = \"\"\n",
    "    \n",
    "    for doc in search_results:\n",
    "        context = context + f\"section: {doc['section']}\\nquestion: {doc['question']}\\nanswer: {doc['text']}\\n\\n\"\n",
    "    \n",
    "    prompt = prompt_template.format(question=query, context=context).strip()\n",
    "    return prompt"
   ]
  },
  {
   "cell_type": "code",
   "execution_count": 67,
   "metadata": {},
   "outputs": [],
   "source": [
    "prompt = build_prompt(user_question, search_results)"
   ]
  },
  {
   "cell_type": "code",
   "execution_count": 69,
   "metadata": {},
   "outputs": [
    {
     "name": "stdout",
     "output_type": "stream",
     "text": [
      "Jesteś pracownikiem działu obsługi klienta firmy OLX. \n",
      "Odpowiedz na PYTANIE klienta bazując na KONTEKST pochodzący z bazy danych częstych pytań i odpowiedzi oraz regulaminu serwisu.\n",
      "Bazuj jedynie na wiedzy z KONTEKST kiedy odpowiadasz na PYTANIE.\n",
      "\n",
      "PYTANIE: Jak mogę usunąć swoje konto?\n",
      "\n",
      "KONTEKST: \n",
      "section: Konto\n",
      "question: Jak usunąć konto?\n",
      "answer: Usunięcie konta OLX spowoduje, że jego odzyskanie nie będzie już możliwe. Wszystkie Twoje dane zostaną skasowane.\n",
      "Krok 1. Zaloguj się na konto OLX.\n",
      "Krok 2. Jeśli korzystasz z:\n",
      "strony internetowej OLX — kliknij Twoje konto → Ustawienia → Zarządzanie kontem.\n",
      "aplikacji mobilnej OLX — kliknij Konto → Ustawienia.\n",
      "Krok 3. Kliknij przycisk Usuń konto → Wyślij e-mail.\n",
      "Krok 4. Przejdź na adres e-mail powiązany z kontem OLX i potwierdź chęć usunięcia konta.\n",
      "Zmiana e-mail/danych kontaktowych\n",
      "Zmiana adresu e-mail\n",
      "Zmiana danych kontaktowych\n",
      "\n",
      "section: Konta\n",
      "question: Wiele kont użytkownika\n",
      "answer: Użytkownik może posiadać tylko jedno Konto w Serwisie. Powyższa zasada nie dotyczy przypadków, gdy:\n",
      "Użytkownik posiada jedno Konto służące do celów prywatnych oraz, z zastrzeżeniem podpunktu b poniżej, Konta służące do celów związanych z prowadzoną przez niego działalnością gospodarczą;\n",
      "Użytkownik wykorzystuje różne Konta w zakresie prowadzonej przez niego działalności gospodarczej w związku z obsługą tych Kont przez różnych przedstawicieli lub oddziały prowadzonego przez Użytkownika przedsiębiorstwa, z zastrzeżeniem, że w zakresie żadnego z Kont nie istnieje opóźnienie w płatnościach z tytułu usług świadczonych przez Grupę OLX, a zamieszczane na Kontach Ogłoszenia nie powtarzają się w zakresie tych samych lokalizacji;\n",
      "zaistnieje konieczność założenia kolejnego Konta z uwagi na brak możliwości uzyskania dostępu do Konta (zapomnienie hasła);\n",
      "przy czym wszystkie wyłączenia w tym zakresie będą szczegółowo weryfikowane przez Grupę OLX, która uprawniona jest do zawieszenia Konta na czas weryfikacji lub usunięcia Kont w przypadku braku potwierdzenia okoliczności uzasadniających zastosowanie powyższego wyłączenia. Powyższe wyłączenia nie mają zastosowania jeśli są wykorzystywane przez Użytkownika wyłącznie w celu do unikania płatności należności z tytułu świadczonych w ramach Serwisu usług.\n",
      "\n",
      "section: Konta\n",
      "question: Czas zawarcia umowy usługi konta\n",
      "answer: Umowa usługi Konta zostaje zawarta na czas nieokreślony z chwilą aktywacji Konta. Umowa usługi Konta może zostać rozwiązana przez Użytkownika z zachowaniem poniższych zasad:\n",
      "prawo do usunięcia Konta pozostaje bez wpływu na uprawnienia Użytkownika do prawa odstąpienia lub wypowiedzenia umowy, przewidzianych przepisami prawa oraz niniejszym Regulaminem;\n",
      "usunięcie Konta możliwe jest poprzez: (i) wybranie odpowiedniej opcji w panelu Konta, (ii) przesłanie oświadczenia o rozwiązaniu za pomocą formularza kontaktowego lub (iii) przesłanie oświadczenia o rozwiązaniu pisemnie na adres Grupy OLX;\n",
      "wraz z usunięciem Konta przez Użytkownika wygasają pozostałe umowy łączące Grupę OLX z Użytkownikiem dotyczące usług świadczonych w ramach Serwisu;\n",
      "rozwiązanie umowy Konta będzie skuteczne od chwili jego dokonania (na przyszłość), Grupa OLX dokona zwrotu Konsumentom równowartości niewykorzystanych kwot w ramach Usług Odpłatnych;\n",
      "w przypadku, gdy Użytkownik ma zgromadzone środki na Portfelu OLX, rozwiązanie Konta jest możliwe tylko po uprzednim skontaktowaniu się z Grupą OLX za pomocą formularza kontaktowego celu wypłaty tych środków, o czym Użytkownik będzie informowany przy próbie usunięcia Konta wraz z rozwiązaniem umowy;\n",
      "po usunięciu Konta albo rozwiązaniu umowy Konta, Użytkownik traci dostęp do informacji przekazanych lub wygenerowanych w toku korzystania z Serwisu.\n",
      "\n",
      "section: Konta\n",
      "question: Aktywacja konta\n",
      "answer: Po wypełnieniu danych wymaganych do Rejestracji na adres email wskazany przez Użytkownika przesłane zostanie potwierdzenie Rejestracji Konta, link do aktywacji Konta oraz aktualny Regulamin. Rejestracja zostaje zakończona w momencie aktywacji Konta przez Użytkownika. Z tym momentem dochodzi do zawarcia umowy usługi Konta. W przypadku niedokonania aktywacji w ciągu 30 Dni od otrzymania emaila potwierdzającego Rejestrację Konta, link aktywacyjny wygasa a Konto nie zostaje aktywowane. Korzystający może dokonać Rejestracji od nowa z wykorzystaniem tego samego adresu email dopiero po uprzednim skontaktowaniu się z Grupą OLX: za pomocą formularza kontaktowego.\n",
      "\n",
      "section: Konto\n",
      "question: Błąd podczas logowania\n",
      "answer: Jeśli widzisz taki komunikat, odinstaluj aplikację OLX, a następnie zainstaluj ją ponownie na swoim urządzeniu.\n",
      "Ważne, aby aplikacja została usunięta po przejściu do Ustawienia → Aplikacje.\n"
     ]
    }
   ],
   "source": [
    "print(prompt)"
   ]
  },
  {
   "cell_type": "code",
   "execution_count": 61,
   "metadata": {},
   "outputs": [],
   "source": [
    "from openai import OpenAI"
   ]
  },
  {
   "cell_type": "code",
   "execution_count": 62,
   "metadata": {},
   "outputs": [],
   "source": [
    "client = OpenAI()"
   ]
  },
  {
   "cell_type": "code",
   "execution_count": 70,
   "metadata": {},
   "outputs": [],
   "source": [
    "def llm(prompt):\n",
    "    response = client.chat.completions.create(\n",
    "        model='gpt-4o',\n",
    "        messages=[{\"role\": \"user\", \"content\": prompt}]\n",
    "    )\n",
    "    \n",
    "    return response.choices[0].message.content"
   ]
  },
  {
   "cell_type": "code",
   "execution_count": null,
   "metadata": {},
   "outputs": [],
   "source": []
  },
  {
   "cell_type": "code",
   "execution_count": 71,
   "metadata": {},
   "outputs": [
    {
     "name": "stderr",
     "output_type": "stream",
     "text": [
      "huggingface/tokenizers: The current process just got forked, after parallelism has already been used. Disabling parallelism to avoid deadlocks...\n",
      "To disable this warning, you can either:\n",
      "\t- Avoid using `tokenizers` before the fork if possible\n",
      "\t- Explicitly set the environment variable TOKENIZERS_PARALLELISM=(true | false)\n"
     ]
    }
   ],
   "source": [
    "llm_response = llm(prompt)"
   ]
  },
  {
   "cell_type": "code",
   "execution_count": 73,
   "metadata": {},
   "outputs": [
    {
     "name": "stdout",
     "output_type": "stream",
     "text": [
      "Aby usunąć swoje konto OLX, postępuj zgodnie z poniższymi krokami:\n",
      "\n",
      "1. Zaloguj się na swoje konto OLX.\n",
      "2. Jeśli korzystasz ze strony internetowej OLX, przejdź do sekcji \"Twoje konto\", następnie \"Ustawienia\" i wybierz \"Zarządzanie kontem\". W aplikacji mobilnej OLX, kliknij \"Konto\", a następnie \"Ustawienia\".\n",
      "3. Kliknij przycisk \"Usuń konto\" i wyślij e-mail.\n",
      "4. Przejdź na adres e-mail powiązany z Twoim kontem OLX i potwierdź chęć usunięcia konta.\n",
      "\n",
      "Pamiętaj, że usunięcie konta OLX spowoduje trwałe usunięcie wszystkich Twoich danych i procesu nie będzie można cofnąć. Jeśli masz zgromadzone środki na Portfelu OLX, wcześniej musisz skontaktować się z Grupą OLX za pomocą formularza kontaktowego w celu wypłaty tych środków. \n",
      "\n",
      "Jeśli zdecydujesz się usunąć konto, umowa usługi Konta zostanie rozwiązana, co również spowoduje wygaśnięcie pozostałych umów dotyczących usług świadczonych w ramach Serwisu.\n"
     ]
    }
   ],
   "source": [
    "print(llm_response)"
   ]
  },
  {
   "cell_type": "code",
   "execution_count": 76,
   "metadata": {},
   "outputs": [],
   "source": [
    "def rag(query):\n",
    "    encoded_query = embedding_model.encode(query)\n",
    "    search_results = elastic_search_knn(\"question_text_vector\", encoded_query, index_name)\n",
    "    prompt = build_prompt(query, search_results)\n",
    "    answer = llm(prompt)\n",
    "    return answer"
   ]
  },
  {
   "cell_type": "code",
   "execution_count": 78,
   "metadata": {},
   "outputs": [
    {
     "data": {
      "text/plain": [
       "'Aby zapłacić za ogłoszenie na OLX, możesz skorzystać z różnych metod płatności dostępnych podczas publikowania ogłoszeń. Proces ten zazwyczaj obejmuje dodanie ogłoszenia, po czym pojawią się dostępne opcje płatności, takie jak:\\n\\n1. **BLIK** — Podajesz 6-cyfrowy kod z aplikacji swojego banku.\\n2. **Przelew online** — Wybierasz swój bank z listy i logujesz się do swojego konta bankowego, aby wykonać przelew.\\n\\nWybór konkretnej metody płatności zależy od dostępnych opcji widocznych podczas finalizowania transakcji. Upewnij się również, że Twoje konto bankowe obsługuje BLIK, jeśli zdecydujesz się na tę metodę.\\n\\nJeśli masz jakiekolwiek trudności lub pytania dotyczące płatności, możesz także skontaktować się z naszym działem obsługi klienta za pomocą formularza kontaktowego dostępnego na stronie OLX.'"
      ]
     },
     "execution_count": 78,
     "metadata": {},
     "output_type": "execute_result"
    }
   ],
   "source": [
    "rag(\"Jak zapłacić za ogłoszenie?\")"
   ]
  },
  {
   "cell_type": "code",
   "execution_count": 79,
   "metadata": {},
   "outputs": [
    {
     "data": {
      "text/plain": [
       "'documents_olx_20240821_4322'"
      ]
     },
     "execution_count": 79,
     "metadata": {},
     "output_type": "execute_result"
    }
   ],
   "source": [
    "index_name"
   ]
  },
  {
   "cell_type": "code",
   "execution_count": 14,
   "metadata": {},
   "outputs": [],
   "source": [
    "import psycopg2\n",
    "\n",
    "def get_db_connection():\n",
    "    return psycopg2.connect(\n",
    "        host=\"postgres\",\n",
    "        database=\"your_database\",\n",
    "        user=\"your_user\",\n",
    "        password=\"your_password\"\n",
    "    )\n"
   ]
  },
  {
   "cell_type": "code",
   "execution_count": null,
   "metadata": {},
   "outputs": [],
   "source": []
  }
 ],
 "metadata": {
  "kernelspec": {
   "display_name": ".venv",
   "language": "python",
   "name": "python3"
  },
  "language_info": {
   "codemirror_mode": {
    "name": "ipython",
    "version": 3
   },
   "file_extension": ".py",
   "mimetype": "text/x-python",
   "name": "python",
   "nbconvert_exporter": "python",
   "pygments_lexer": "ipython3",
   "version": "3.10.14"
  }
 },
 "nbformat": 4,
 "nbformat_minor": 2
}
