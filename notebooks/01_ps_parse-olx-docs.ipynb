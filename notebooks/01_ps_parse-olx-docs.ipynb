{
 "cells": [
  {
   "cell_type": "code",
   "execution_count": 1,
   "id": "4cd1eaa8-3424-41ad-9cf2-3e8548712865",
   "metadata": {},
   "outputs": [],
   "source": [
    "import io\n",
    "\n",
    "import requests\n",
    "import docx"
   ]
  },
  {
   "cell_type": "code",
   "execution_count": 2,
   "id": "8180e7e4-b90d-4900-a59b-d22e5d6537c4",
   "metadata": {},
   "outputs": [],
   "source": [
    "def clean_line(line):\n",
    "    line = line.strip()\n",
    "    line = line.strip('\\uFEFF')\n",
    "    return line\n",
    "\n",
    "def read_faq(file_id):\n",
    "    url = f'https://docs.google.com/document/d/{file_id}/export?format=docx'\n",
    "    \n",
    "    response = requests.get(url)\n",
    "    response.raise_for_status()\n",
    "    \n",
    "    with io.BytesIO(response.content) as f_in:\n",
    "        doc = docx.Document(f_in)\n",
    "\n",
    "    questions = []\n",
    "\n",
    "    question_heading_style = 'heading 2'\n",
    "    section_heading_style = 'heading 1'\n",
    "    \n",
    "    heading_id = ''\n",
    "    section_title = ''\n",
    "    question_title = ''\n",
    "    answer_text_so_far = ''\n",
    "     \n",
    "    for p in doc.paragraphs:\n",
    "        style = p.style.name.lower()\n",
    "        p_text = clean_line(p.text)\n",
    "    \n",
    "        if len(p_text) == 0:\n",
    "            continue\n",
    "    \n",
    "        if style == section_heading_style:\n",
    "            section_title = p_text\n",
    "            continue\n",
    "    \n",
    "        if style == question_heading_style:\n",
    "            answer_text_so_far = answer_text_so_far.strip()\n",
    "            if answer_text_so_far != '' and section_title != '' and question_title != '':\n",
    "                questions.append({\n",
    "                    'text': answer_text_so_far,\n",
    "                    'section': section_title,\n",
    "                    'question': question_title,\n",
    "                })\n",
    "                answer_text_so_far = ''\n",
    "    \n",
    "            question_title = p_text\n",
    "            continue\n",
    "        \n",
    "        answer_text_so_far += '\\n' + p_text\n",
    "    \n",
    "    answer_text_so_far = answer_text_so_far.strip()\n",
    "    if answer_text_so_far != '' and section_title != '' and question_title != '':\n",
    "        questions.append({\n",
    "            'text': answer_text_so_far,\n",
    "            'section': section_title,\n",
    "            'question': question_title,\n",
    "        })\n",
    "\n",
    "    return questions"
   ]
  },
  {
   "cell_type": "code",
   "execution_count": 3,
   "id": "7d3c2dd7-f64a-4dc7-a4e3-3e8aadfa720f",
   "metadata": {},
   "outputs": [],
   "source": [
    "faq_documents = {\n",
    "    'olx-qa': '18i5tEWeNp3lVB0uWmNWPUyXKVwPS1KZByr-lDg-UkK0',\n",
    "    'olx-tc': '1i-RS_ZeatwnqmJ1sVNJjQoJiqT1yIy2VoA-gcjfKv1g'\n",
    "}"
   ]
  },
  {
   "cell_type": "code",
   "execution_count": 4,
   "id": "f94efe26-05e8-4ae5-a0fa-0a8e16852816",
   "metadata": {},
   "outputs": [
    {
     "name": "stdout",
     "output_type": "stream",
     "text": [
      "olx-qa\n",
      "olx-tc\n"
     ]
    }
   ],
   "source": [
    "documents = []\n",
    "\n",
    "for course, file_id in faq_documents.items():\n",
    "    print(course)\n",
    "    course_documents = read_faq(file_id)\n",
    "    documents.append({'course': course, 'documents': course_documents})"
   ]
  },
  {
   "cell_type": "code",
   "execution_count": 5,
   "id": "2cef8bad",
   "metadata": {},
   "outputs": [
    {
     "data": {
      "text/plain": [
       "2"
      ]
     },
     "execution_count": 5,
     "metadata": {},
     "output_type": "execute_result"
    }
   ],
   "source": [
    "len(documents)"
   ]
  },
  {
   "cell_type": "code",
   "execution_count": 6,
   "id": "7ddc0f89",
   "metadata": {},
   "outputs": [
    {
     "data": {
      "text/plain": [
       "{'course': 'olx-tc',\n",
       " 'documents': [{'text': 'cena, której wysokość jest zmienna, w odpowiedzi na popyt rynkowy. Aktualna wysokość ceny dynamicznej jest dostępna podczas uzupełniania formularza Ogłoszenia lub przed zakupem danej usługi.',\n",
       "   'section': 'Definicje',\n",
       "   'question': 'cena dynamiczna'},\n",
       "  {'text': 'cena uwzględniająca podatek VAT i podatek akcyzowy (jeżeli ma zastosowanie), za którą Przedmiot lub Usługa są oferowane dla Kupujących.',\n",
       "   'section': 'Definicje',\n",
       "   'question': 'Cena końcowa'},\n",
       "  {'text': 'usługa przyjmowania, sortowania, przemieszczania i doręczania Przedmiotów objętych Transakcją, realizowana na rzecz Użytkownika przez podmiot trzeci. Grupa OLX nie świadczy usług Dostawy, w szczególności usług pocztowych. Lista podmiotów, spośród których Użytkownik może wybrać świadczącego usługę Dostawy jest określona przez (i) Alsendo sp. z o.o. albo (ii) w przypadkach wskazanych w Serwisie - przez Grupę OLX.',\n",
       "   'section': 'Definicje',\n",
       "   'question': 'Dostawa'},\n",
       "  {'text': 'oznacza następujące kolejno po sobie 24 godziny.',\n",
       "   'section': 'Definicje',\n",
       "   'question': 'Dzień'},\n",
       "  {'text': 'osoba fizyczna korzystająca z Serwisu, nieposiadająca Konta lub do niego niezalogowana.',\n",
       "   'section': 'Definicje',\n",
       "   'question': 'Gość'},\n",
       "  {'text': 'Grupa OLX sp. z o. o. z siedzibą w Poznaniu (ul. Królowej Jadwigi 43, 61-872, Poznań), wpisana do rejestru przedsiębiorców prowadzonego przez Sąd Rejonowy Poznań – Nowe Miasto i Wilda w Poznaniu, Wydział VIII Gospodarczy Krajowego Rejestru Sądowego pod numerem KRS: 0000568963, kapitał zakładowy 1 543 000,00 złotych, NIP: 7792433421. Kontakt z Grupą OLX jest możliwy pod adresem: pomoc@olx.pl lub za pomocą innych wskazanych w Serwisie kanałów komunikacji.',\n",
       "   'section': 'Definicje',\n",
       "   'question': 'Grupa OLX'},\n",
       "  {'text': 'Gość lub Użytkownik przeglądający Ogłoszenia w kategorii Praca lub korzystający z dedykowanych funkcjonalności określonych w Załączniku nr 1 “OLX Praca”.',\n",
       "   'section': 'Definicje',\n",
       "   'question': 'Kandydat'},\n",
       "  {'text': 'kategoria tematyczna (np. Motoryzacja czy Elektronika), do której przypisane jest Ogłoszenie. Kategoria może dzielić się na powiązane tematycznie podkategorie.',\n",
       "   'section': 'Definicje',\n",
       "   'question': 'Kategoria'},\n",
       "  {'text': 'Użytkownik będący osobą fizyczną, dokonujący w Serwisie czynności niezwiązanych bezpośrednio z jego działalnością gospodarczą lub zawodową.',\n",
       "   'section': 'Definicje',\n",
       "   'question': 'Konsument'},\n",
       "  {'text': 'zbiór danych powiązanych z danym Użytkownikiem, obejmujący informacje o jego aktywności w Serwisie, w tym informacje podawane przez Użytkownika w Serwisie. Zasady dotyczące Konta zostały określone w punkcie 3 Regulaminu.',\n",
       "   'section': 'Definicje',\n",
       "   'question': 'Konto'},\n",
       "  {'text': 'Użytkownik dokonujący ze Sprzedającym Transakcji z wykorzystaniem funkcjonalności Serwisu.',\n",
       "   'section': 'Definicje',\n",
       "   'question': 'Kupujący'},\n",
       "  {'text': 'przewidziana dla wybranych Kategorii liczba bezpłatnych Ogłoszeń, które Użytkownik może opublikować w Serwisie w danym czasie. Limity w poszczególnych Kategoriach mogą być wykorzystywane niezależnie.',\n",
       "   'section': 'Definicje',\n",
       "   'question': 'Limit'},\n",
       "  {'text': 'propozycja sprzedaży lub świadczenia Przedmiotu sporządzona przez Sprzedającego lub zaproszenie do uczestnictwa w procesie rekrutacyjnym sporządzone przez Pracodawcę i opublikowane w Serwisie na zasadach określonych w punkcie 4 Regulaminu.',\n",
       "   'section': 'Konta',\n",
       "   'question': 'Ogłoszenie'},\n",
       "  {'text': 'W celu uzyskania pełnej funkcjonalności Serwisu Gość powinien (1) dokonać Rejestracji Konta, (2) określić czy korzysta z Serwisu prywatnie czy jako przedsiębiorca i (3) korzystać z Serwisu jako zalogowany Użytkownik. Konto daje Użytkownikowi możliwość korzystania m.in. z następujących funkcjonalności Serwisu:\\npublikowania i zarządzania opublikowanymi Ogłoszeniami;\\nobserwowania Ogłoszeń innych Użytkowników;\\nzarządzania płatnościami i fakturami związanymi z usługami świadczonymi w Serwisie przez Grupę OLX;\\nwysyłania i odbierania wiadomości do innych Użytkowników;\\nzamówienie Usług Promowania;\\nzawierania Transakcji z wykorzystaniem usługi Przesyłki OLX;\\nudostępnianych zgodnie z Załącznikiem nr 1 “OLX Praca”;\\nlogowania oraz założenia konta w prowadzonym przez Grupę OLX serwisie Fixly, dostępnym pod adresem www.fixly.pl. Aby skorzystać z tej możliwości Użytkownik musi podczas logowania z wykorzystaniem danych konta OLX zaakceptować regulamin serwisu Fixly. Opcja ta możliwa jest jedynie w przypadku logowania oraz założenia konta w serwisie Fixly jako Wykonawca, w rozumieniu wynikającym z regulaminu Fixly oraz korzystania z Serwisu poprzez przeglądarkę internetową (opcja niedostępna w aplikacji mobilnej OLX.pl).',\n",
       "   'section': 'Konta',\n",
       "   'question': 'Pełna funkcjonalność konta'},\n",
       "  {'text': 'Użytkownikiem może być wyłącznie osoba fizyczna posiadająca pełną zdolność do czynności prawnych, osoba prawna albo jednostka organizacyjna nieposiadająca osobowości prawnej, której ustawa przyznaje zdolność prawną. W przypadku osób prawnych i jednostek organizacyjnych nieposiadających osobowości prawnej, utworzyć Konto w ich imieniu oraz dokonywać wszelkich czynności w ramach Serwisu może jedynie osoba umocowana do działania w tym zakresie w imieniu tych podmiotów.',\n",
       "   'section': 'Konta',\n",
       "   'question': 'Kto może być użytkownikiem?'},\n",
       "  {'text': 'Użytkownik może posiadać tylko jedno Konto w Serwisie. Powyższa zasada nie dotyczy przypadków, gdy:\\nUżytkownik posiada jedno Konto służące do celów prywatnych oraz, z zastrzeżeniem podpunktu b poniżej, Konta służące do celów związanych z prowadzoną przez niego działalnością gospodarczą;\\nUżytkownik wykorzystuje różne Konta w zakresie prowadzonej przez niego działalności gospodarczej w związku z obsługą tych Kont przez różnych przedstawicieli lub oddziały prowadzonego przez Użytkownika przedsiębiorstwa, z zastrzeżeniem, że w zakresie żadnego z Kont nie istnieje opóźnienie w płatnościach z tytułu usług świadczonych przez Grupę OLX, a zamieszczane na Kontach Ogłoszenia nie powtarzają się w zakresie tych samych lokalizacji;\\nzaistnieje konieczność założenia kolejnego Konta z uwagi na brak możliwości uzyskania dostępu do Konta (zapomnienie hasła);\\nprzy czym wszystkie wyłączenia w tym zakresie będą szczegółowo weryfikowane przez Grupę OLX, która uprawniona jest do zawieszenia Konta na czas weryfikacji lub usunięcia Kont w przypadku braku potwierdzenia okoliczności uzasadniających zastosowanie powyższego wyłączenia. Powyższe wyłączenia nie mają zastosowania jeśli są wykorzystywane przez Użytkownika wyłącznie w celu do unikania płatności należności z tytułu świadczonych w ramach Serwisu usług.',\n",
       "   'section': 'Konta',\n",
       "   'question': 'Wiele kont użytkownika'},\n",
       "  {'text': 'wypełnienia formularza dostępnego w Serwisie i podania wymaganych tam danych, w tym adresu email Użytkownika oraz unikalnego hasła lub uwierzytelnienia za pośrednictwem zewnętrznego usługodawcy jak np. Facebook, Google lub Apple;\\nzapoznania się z Regulaminem i jego załącznikami oraz akceptacji ich postanowień.',\n",
       "   'section': 'Konta',\n",
       "   'question': 'Rejestracja Konta wymaga:'},\n",
       "  {'text': 'Grupa OLX przetwarza dane osobowe Użytkowników, osób działających w imieniu Użytkowników oraz Gości zgodnie z postanowieniami Polityki Prywatności oraz Polityką dotyczącą Cookies i Podobnych Technologii.',\n",
       "   'section': 'Konta',\n",
       "   'question': 'Jak OLX przetwarza dane?'},\n",
       "  {'text': 'Po wypełnieniu danych wymaganych do Rejestracji na adres email wskazany przez Użytkownika przesłane zostanie potwierdzenie Rejestracji Konta, link do aktywacji Konta oraz aktualny Regulamin. Rejestracja zostaje zakończona w momencie aktywacji Konta przez Użytkownika. Z tym momentem dochodzi do zawarcia umowy usługi Konta. W przypadku niedokonania aktywacji w ciągu 30 Dni od otrzymania emaila potwierdzającego Rejestrację Konta, link aktywacyjny wygasa a Konto nie zostaje aktywowane. Korzystający może dokonać Rejestracji od nowa z wykorzystaniem tego samego adresu email dopiero po uprzednim skontaktowaniu się z Grupą OLX: za pomocą formularza kontaktowego.',\n",
       "   'section': 'Konta',\n",
       "   'question': 'Aktywacja konta'},\n",
       "  {'text': 'Użytkownik ma obowiązek w procesie Rejestracji oraz w toku korzystania z Serwisu podać dane prawdziwe, poprawne i aktualne i do których wykorzystywania jest uprawniony. Użytkownik zobowiązany jest do aktualizacji danych w razie ich zmiany. Grupa OLX ma prawo do blokady Konta w przypadku, gdy podane dane nie będą spełniały powyższych wymogów, zgodnie z procedurą określoną w punkcie 13 Regulaminu.',\n",
       "   'section': 'Konta',\n",
       "   'question': 'Podanie nieprawdziwych danych'},\n",
       "  {'text': 'Osoba działająca w ramach Serwisu w imieniu i na rzecz Użytkownika będącego osobą prawną lub jednostką organizacyjną nieposiadającą osobowości prawnej, której ustawa przyznaje zdolność prawną, musi być należycie upoważniona do działania i dokonywania w ramach Serwisu wszelkich czynności imieniu i na rzecz takiego Użytkownika. Grupa OLX ma prawo do dokonania dodatkowej weryfikacji takiej osoby poprzez żądanie dokumentu potwierdzającego umocowanie do działania w imieniu Użytkownika.',\n",
       "   'section': 'Konta',\n",
       "   'question': 'Osoba działająca w ramach Serwisu w imieniu i na rzecz Użytkownika'},\n",
       "  {'text': 'Użytkownik zobowiązuje się do zachowania danych dostępu do Konta w tajemnicy i do ich ochrony przed dostępem przez osoby trzecie. Użytkownik niezwłocznie poinformuje Grupę OLX w razie powzięcia wiadomości o pozyskaniu danych dostępu do Konta przez niepowołane osoby trzecie i w miarę możliwości dokona niezwłocznej ich zmiany.',\n",
       "   'section': 'Konta',\n",
       "   'question': 'Poufność danych dostępu'},\n",
       "  {'text': 'Umowa usługi Konta zostaje zawarta na czas nieokreślony z chwilą aktywacji Konta. Umowa usługi Konta może zostać rozwiązana przez Użytkownika z zachowaniem poniższych zasad:\\nprawo do usunięcia Konta pozostaje bez wpływu na uprawnienia Użytkownika do prawa odstąpienia lub wypowiedzenia umowy, przewidzianych przepisami prawa oraz niniejszym Regulaminem;\\nusunięcie Konta możliwe jest poprzez: (i) wybranie odpowiedniej opcji w panelu Konta, (ii) przesłanie oświadczenia o rozwiązaniu za pomocą formularza kontaktowego lub (iii) przesłanie oświadczenia o rozwiązaniu pisemnie na adres Grupy OLX;\\nwraz z usunięciem Konta przez Użytkownika wygasają pozostałe umowy łączące Grupę OLX z Użytkownikiem dotyczące usług świadczonych w ramach Serwisu;\\nrozwiązanie umowy Konta będzie skuteczne od chwili jego dokonania (na przyszłość), Grupa OLX dokona zwrotu Konsumentom równowartości niewykorzystanych kwot w ramach Usług Odpłatnych;\\nw przypadku, gdy Użytkownik ma zgromadzone środki na Portfelu OLX, rozwiązanie Konta jest możliwe tylko po uprzednim skontaktowaniu się z Grupą OLX za pomocą formularza kontaktowego celu wypłaty tych środków, o czym Użytkownik będzie informowany przy próbie usunięcia Konta wraz z rozwiązaniem umowy;\\npo usunięciu Konta albo rozwiązaniu umowy Konta, Użytkownik traci dostęp do informacji przekazanych lub wygenerowanych w toku korzystania z Serwisu.',\n",
       "   'section': 'Konta',\n",
       "   'question': 'Czas zawarcia umowy usługi konta'},\n",
       "  {'text': 'Grupa OLX uprawniona jest do rozwiązania umowy z Użytkownikiem, jeśli Użytkownik:\\nnie zalogował się na Koncie przez okres dłuższy niż 24 miesiące. W rezultacie Użytkownik nie będzie już uprawniony do korzystania z usuniętego Konta. Informacja o rozwiązaniu umowy zostanie wysłana Użytkownikowi z 30-dniowym wyprzedzeniem na adres e-mail podany podczas Rejestracji. Użytkownik będzie mógł wyrazić chęć dalszego korzystania z Konta korzystając z udostępnionej w tym celu funkcjonalności wymagającej zalogowania się Użytkownika do Konta. Prawo Grupy OLX do rozwiązania umowy zgodnie z niniejszym postanowieniem nie ogranicza prawa Użytkownika do ponownej rejestracji w Serwisie. Grupa OLX nie gwarantuje jednak, że dotychczasowa nazwa Użytkownika powiązana z Kontem będzie dostępna do użycia podczas nowej rejestracji;\\npomimo uprzedniego wezwania go przez Grupę OLX do zaprzestania określonych działań lub zaniechań naruszających postanowienia Regulaminu lub przepisy prawa powszechnie obowiązującego, kontynuuje wskazane w wezwaniu działania.',\n",
       "   'section': 'Konta',\n",
       "   'question': 'Grupa OLX uprawniona jest do rozwiązania umowy z Użytkownikiem'},\n",
       "  {'text': 'W celu zapewnienia zgodności Serwisu z wymaganiami obowiązującego prawa regulującego działalność platform internetowych, prawidłowego funkcjonowania Serwisu, ochrony i zapewnienia bezpieczeństwa korzystających z niego osób, Grupa OLX zastrzega sobie prawo do zwrócenia się do Użytkowników Biznesowych o przekazanie dodatkowych danych lub dokonania dodatkowej weryfikacji aktualności i prawdziwości danych podanych przez Użytkownika oraz żądania potwierdzenia przez Użytkownika jego tożsamości, informacji zawartych w Ogłoszeniu lub informacji związanych z dokonaną Transakcją w sposób wybrany przez Grupę OLX lub wynikający z obowiązujących przepisów. Jeśli weryfikacja danych lub tożsamości Użytkownika nie powiedzie się, Grupa OLX może zawiesić lub zablokować działanie Konta na zasadach określonych w punkcie 13 Regulaminu.',\n",
       "   'section': 'Konta',\n",
       "   'question': 'Dodatkowe infrormacje przy rozwiażaniu umowy z użytkownikiem'},\n",
       "  {'text': 'Odstąpienie konsumenckie. Konsument lub osoba fizyczna zawierająca umowę bezpośrednio związaną z jej działalnością gospodarczą, gdy z treści tej umowy wynika, że nie posiada ona dla tej osoby charakteru zawodowego, może w terminie 14 dni od dnia zawarcia umowy z Grupą OLX odstąpić od umowy dotyczącej danej usługi bez podania przyczyny, składając oświadczenie w tym zakresie za pomocą formularza kontaktowego lub pisemnie na adres Grupy OLX. Wraz z odstąpieniem od umowy usługi Konta wygasają pozostałe umowy łączące Grupę OLX z Użytkownikiem. Wzór formularza o odstąpieniu od umowy, z którego Użytkownik może skorzystać, określony jest w pouczeniu, stanowiącym Załącznik nr 4 “Wzór oświadczenia o odstąpieniu”.',\n",
       "   'section': 'Konta',\n",
       "   'question': 'Odstąpienie konsumenckie'},\n",
       "  {'text': 'Umowa usługi Konta może zostać rozwiązana przez Użytkownika Biznesowego z zachowaniem reguł wskazanych w punkcie 3.10. w przypadku braku akceptacji zmian do Regulaminu, o których Użytkownik zostanie poinformowany zgodnie z punktem 18.1. b i c. W takim przypadku, w celu rozwiązania umowy w zakresie usługi Konta, Użytkownik Biznesowy powinien niezwłocznie, nie później niż w terminie 15 dni od ogłoszenia zmian powiadomić o tym Grupę OLX. Rozwiązanie przez Użytkownika w powyższym trybie umowy w zakresie usługi Konta odnosi skutek po upływie 15 dni od powiadomienia Użytkownika o zmianach Regulaminu, chyba że Użytkownik Biznesowy zrezygnuje z takiego powiadomienia albo złoży w tym zakresie stosowne oświadczenie lub podejmie wyraźne działanie w Serwisie potwierdzające akceptację takich warunków (np. publikacja nowego Ogłoszenia).',\n",
       "   'section': 'Konta',\n",
       "   'question': 'Umowa usługi Konta może zostać rozwiązana'},\n",
       "  {'text': 'Deklaracja użytkownika odnośnie do tego, czy korzysta z Serwisu jako przedsiębiorca czy prywatnie- a w tym publikuje Ogłoszenia i zawiera Transakcje z usługami Przesyłki OLX i Płatności OLX - dotyczy całej aktywności Użytkownika w Serwisie.',\n",
       "   'section': 'Konta',\n",
       "   'question': 'Deklaracja użytkownika odnośnie do tego, czy korzysta z Serwisu jako przedsiębiorca czy prywatnie'},\n",
       "  {'text': 'Użytkownik zawierając Transakcje, a w tym Transakcje z usługami Płatności OLX i Przesyłki OLX zobowiązany jest działać zgodnie ze swoją deklaracją odnośnie do charakteru, w którym korzysta z Serwisu - tj. działać jako przedsiębiorca albo prywatnie.',\n",
       "   'section': 'Konta',\n",
       "   'question': 'Użytkownik zawierając Transakcje'},\n",
       "  {'text': 'Użytkownik Biznesowy jest zobowiązany do przekazania Grupie OLX swoich danych identyfikacyjnych i kontaktowych by publikować Ogłoszenia w Serwisie, korzystać z usług promowania oraz z usług Przesyłki OLX i Płatności OLX. Dane identyfikacyjne i kontaktowe Użytkowników Biznesowych są publikowane w Serwisie.',\n",
       "   'section': 'Bezprawne i niezgodne z Regulaminem działania Użytkowników',\n",
       "   'question': 'Użytkownik Biznesowy'},\n",
       "  {'text': 'w granicach prawa i dobrych obyczajów obowiązujących społeczeństwo informacyjne, z poszanowaniem praw i dóbr innych osób. W szczególności, Użytkownik zobowiązuje się do:\\nniepodejmowania działań, które mogłyby zakłócić prawidłowe funkcjonowanie Serwisu, w tym do nieingerowania w zawartość Serwisu, Konta lub Kont innych Użytkowników, czy też w elementy informatyczne Serwisu;\\nniepodejmowania działań bezprawnych, w tym przesyłania lub publikowania z wykorzystaniem funkcjonalności Serwisu treści naruszających przepisy prawa, dobra osobiste, treści zawierających lub rozpowszechniających pornografię dziecięcą lub treści terrorystycznych i naruszających cudze prawa własności intelektualnej, a także treści o charakterze dyskryminującym lub rasistowskim;\\nnieprowadzenia z wykorzystaniem funkcjonalności Serwisu sprzedaży (lub niepodejmowania innych mających podobny skutek działań) Przedmiotów wymienionych Załączniku nr 5 “Przedmioty zakazane i dopuszczone warunkowo” lub prowadzenia ich sprzedaży bez spełnienia warunków wymaganych zgodnie z Załącznikiem nr 5, a także innych Przedmiotów, o ile obrót nimi jest wyłączony ze względu na obowiązujące przepisy prawa, a także Przedmiotów pochodzących z kradzieży lub co do których toczy się spór sądowy lub administracyjny albo też Przedmiotów objętych postępowaniem egzekucyjnym lub wchodzących w skład masy upadłościowej lub sanacyjnej;\\nniewprowadzania osób korzystających z Serwisu oraz Grupy OLX w błąd, np. poprzez podawanie nieprawdziwych informacji dotyczących Przedmiotu albo zatajenie istotnych informacji;\\npowstrzymywania się od działania w złej wierze, od nadużywania funkcjonalności Serwisu, korzystania z Serwisu niezgodnie z jego przeznaczeniem i wbrew Regulaminowi;\\nniewprowadzanie w błąd Użytkowników co do stanu, cech i elementów Przedmiotu oraz innych warunków Transakcji - w tym okoliczności, o których mowa w pkt I.4 Załącznika nr 8 do Regulaminu.',\n",
       "   'section': 'Bezprawne i niezgodne z Regulaminem działania Użytkowników',\n",
       "   'question': '13.1 Użytkownik uprawniony jest do korzystania z Serwisu zgodnie z jego przeznaczeniem,'},\n",
       "  {'text': 'na każdym etapie korzystania z Serwisu, w stosunku do każdej oferowanej funkcjonalności, w tym w szczególności w przypadku publikacji Ogłoszeń i przesyłania wiadomości do innych Użytkowników.',\n",
       "   'section': 'Bezprawne i niezgodne z Regulaminem działania Użytkowników',\n",
       "   'question': 'Użytkownik zobowiązany jest przestrzegać zobowiązania określonego w punkcie 13.1 Regulaminu'},\n",
       "  {'text': 'odbywa się w sposób zautomatyzowany, z wykorzystaniem interfejsu Serwisu, a Grupa OLX nie weryfikuje automatycznie wszystkich treści przesyłanych z wykorzystaniem funkcjonalności Serwisu.',\n",
       "   'section': 'Bezprawne i niezgodne z Regulaminem działania Użytkowników',\n",
       "   'question': 'Publikowanie lub przesyłanie jakichkolwiek treści w Serwisie'},\n",
       "  {'text': 'w Serwisie, Grupa OLX uprawniona do przeprowadzenia badania, czy zaktualizowana treść nie narusza Regulaminu oraz podjęcia odpowiednich działań, włączając w to usunięcie treści naruszających Regulamin lub przepisy obowiązującego prawa.',\n",
       "   'section': 'Bezprawne i niezgodne z Regulaminem działania Użytkowników',\n",
       "   'question': 'W razie zmian w treści Ogłoszenia dokonanych przez Użytkownika po jego publikacji'},\n",
       "  {'text': 'rozpowszechnianych z wykorzystaniem funkcjonalności Serwisu, za pośrednictwem funkcjonalności “zgłoś naruszenie” dostępnej w ramach Ogłoszenia („Zgłoszenie nadużycia”). Zgłaszający powinien w miarę możliwości podać dane umożliwiające Grupie OLX dokonanie weryfikacji Zgłoszenia nadużycia, w tym w szczególności ID Ogłoszenia, wyjaśnienie powodów, dla których uznaje daną treść za bezprawną lub sprzeczną z Regulaminem oraz, jeżeli jest to wymagane w formularzu zgłoszenia, danych kontaktowych.',\n",
       "   'section': 'Bezprawne i niezgodne z Regulaminem działania Użytkowników',\n",
       "   'question': 'Każda osoba korzystająca z Serwisu ma możliwość zgłoszenia Grupie OLX treści bezprawnych lub sprzecznych z Regulaminem,'},\n",
       "  {'text': 'niezwłocznie zablokować daną treść, w tym w szczególności Ogłoszenie, a także związane z nią Usługi Promowania. W przypadku blokady, treść nie będzie widoczna ani dostępna dla osób korzystających z Serwisu ani w panelu Konta danego Użytkownika;\\npodjąć właściwe czynności wyjaśniające, dążąc do ustalenia okoliczności sprawy, działając proporcjonalnie i rozsądnie, w tym przykładowo poprzez kontakt z podmiotem zgłaszającym nadużycie, dostawcą danej treści, właściwym organem lub zewnętrznym doradcą;\\npoinformować, w razie dokonania blokady danej treści, najpóźniej z chwilą gdy blokada staje się skuteczna, dostawcę danej treści w formie wiadomości email, ze wskazaniem zablokowanej treści, powodów decyzji o blokadzie (w tym treści Zgłoszenia nadużycia po jego zanonimizowaniu o ile wymagają tego powszechnie obowiązujące przepisy prawa), wskazaniem podstaw decyzji z powołaniem treści Regulaminu;\\npostanowienia punktu 13.6.c) nie stosuje się, jeżeli z zawiadomienia właściwego organu publicznego, z bezwzględnie obowiązujących przepisów prawa lub z potrzeby zapewnienia bezpieczeństwa życia lub zdrowia osób lub państwa, wynika obowiązek nieujawniania informacji o których mowa w tym punkcie.',\n",
       "   'section': 'Bezprawne i niezgodne z Regulaminem działania Użytkowników',\n",
       "   'question': 'W razie uzyskania wiarygodnej wiadomości (na podstawie Zgłoszenia nadużycia lub w inny sposób) o tym, że treść przesyłana czy publikowana z wykorzystaniem funkcjonalności Serwisu ma bezprawny charakter lub narusza postanowienia Regulaminu, Grupa OLX może:'},\n",
       "  {'text': 'poprzez złożenie sprzeciwu od przekazania przez Grupę OLX informacji o blokadzie danej treści. Postanowienia regulujące postępowanie reklamacyjne stosuje się odpowiednio.\\nW przypadku uznania sprzeciwu, o którym mowa w pkt 13.7. za zasadny lub w razie niebudzącego wątpliwości ustania okoliczności uzasadniających bezprawność lub sprzeczność z Regulaminem danej treści:\\nzablokowana treść zostaje przywrócona, poprzez jej udostępnienie w postaci kopii roboczej Ogłoszenia lub wiadomości dostępnej na Koncie. Użytkownik będzie mógł podjąć decyzję o jej publikacji lub przesłaniu za pośrednictwem Serwisu;\\njeżeli Ogłoszenie było objęte jedną z Usług Odpłatnych, pobrana wcześniej opłata za emisję Ogłoszenia oraz związanych z danym Ogłoszeniem Usług Odpłatnych będzie zwracana na konto Użytkownika, w postaci punktów służących do ponownego skorzystania z usług Serwisu, w terminie 90 Dni liczonych od chwili usunięcia danego Ogłoszenia (jeden punkt odpowiada wartości 1 PLN). Na wniosek Użytkownika opłata może zostać zwrócona w formie pieniężnej, bezpośrednio na rachunek bankowy, z którego została dokonana płatność lub zgodnie z użytą metodą płatności.',\n",
       "   'section': 'Bezprawne i niezgodne z Regulaminem działania Użytkowników',\n",
       "   'question': '13.7 Użytkownik Biznesowy ma możliwość zakwestionowania decyzji w przedmiocie blokady treści przesyłanej czy publikowanej przez niego z wykorzystaniem funkcjonalności Serwisu,'},\n",
       "  {'text': 'za bezzasadny lub niewniesienia przez Użytkownika Biznesowego sprzeciwu w terminie 7 dni od pozyskania informacji określonej w punkcie 13.6.c.:\\nzablokowana treść zostaje bezpowrotnie usunięta z Serwisu;\\njeżeli dana treść była objęta jedną z Usług Odpłatnych, pobrana wcześniej opłata za emisję Ogłoszenia oraz związanych z danym Ogłoszeniem Usług Odpłatnych będzie zwracana na konto Użytkownika, w postaci punktów służących do ponownego skorzystania z usług Serwisu, w terminie 90 Dni liczonych od chwili usunięcia danego Ogłoszenia (jeden punkt odpowiada wartości 1 PLN). Na wniosek Użytkownika opłata może zostać zwrócona w formie pieniężnej, bezpośrednio na rachunek bankowy, z którego została dokonana płatność lub zgodnie z użytą metodą płatności.',\n",
       "   'section': 'Bezprawne i niezgodne z Regulaminem działania Użytkowników',\n",
       "   'question': 'W przypadku uznania sprzeciwu, o którym mowa w pkt 13.7.'},\n",
       "  {'text': 'jak również w przypadku, w którym Ogłoszenie negatywnie wpływa na dobre imię Grupy OLX lub w inny sposób szkodzi Grupie OLX.',\n",
       "   'section': 'Bezprawne i niezgodne z Regulaminem działania Użytkowników',\n",
       "   'question': 'Grupa OLX uprawniona jest do usunięcia Ogłoszenia lub zablokowania Konta jeśli zaistniało podejrzenie, że za pośrednictwem Ogłoszenia lub Konta mogło lub może dojść do działań zagrażających bezpieczeństwu innych Użytkowników w ramach Serwisu,'},\n",
       "  {'text': 'a także poważnego lub powtarzającego się naruszenia postanowień Regulaminu, w szczególności w razie powtarzających się prób publikowania lub rozpowszechniania nielegalnych treści przez danego Użytkownika lub różnych Użytkowników działających wspólnie i w porozumieniu, w tym z wykorzystaniem różnych Kont, Grupa OLX może, z zachowaniem zasad proporcjonalności i poszanowania wolności obrotu, zawiesić Konto lub Konta albo tymczasowo lub permanentnie je zablokować, co będzie równoznaczne z tymczasowym zawieszeniem świadczenia usług na rzecz Użytkownika, z uwzględnieniem poniższych zasad:\\nzawieszenie Konta oznacza czasowe wstrzymania jego funkcjonalności. Użytkownik, którego Konto zostało zawieszone, traci możliwość aktywnego korzystania z Serwisu, co oznacza, że nie może wysyłać wiadomości z wykorzystaniem jego funkcjonalności, publikować Ogłoszeń ani dokonywać Transakcji. Użytkownik może jednak przeglądać Serwis, historię wiadomości i opublikowanych przez siebie Ogłoszeń oraz dokonywać wpłat na poczet Portfela OLX, przy czym, aby dokonać wypłaty przypisanych mu środków powinien skontaktować się z się z działem Wsparcia Klienta/Centrum Pomocy za pomocą formularza kontaktowego;\\nzablokowanie Konta oznacza utratę przez Użytkownika możliwości zalogowania się do Konta.',\n",
       "   'section': 'Bezprawne i niezgodne z Regulaminem działania Użytkowników',\n",
       "   'question': 'W razie poważnego naruszenia prawa z wykorzystaniem Serwisu,'},\n",
       "  {'text': 'najpóźniej z chwilą, gdy blokada staje się skuteczna, w formie wiadomości e-mail, ze wskazaniem zablokowanej lub zawieszonej treści lub Konta, powodów decyzji o blokadzie lub zawieszeniu ze wskazaniem podstaw decyzji wynikających z treści Regulaminu.\\nUżytkownik, który nie zgadza się z decyzją w przedmiocie zablokowania lub zawieszenia treści lub Konta, ma prawo do wniesienia skargi, zgodnie z postanowieniami punktu 15 Regulaminu. Dla uniknięcia wątpliwości, wniesienie lub niewniesienie skutecznego sprzeciwu w sytuacjach określonych punktem 13.6. lub 13.11. Regulaminu pozostaje bez wpływu na prawo Użytkownika do wniesienia reklamacji zgodnie z punktem 15 Regulaminu.',\n",
       "   'section': 'Bezprawne i niezgodne z Regulaminem działania Użytkowników',\n",
       "   'question': 'Użytkownik zostanie poinformowany w razie dokonania blokady lub zawieszenia danej treści lub Konta,'},\n",
       "  {'text': 'Polityki oraz procedury moderacyjne przyjęte przez Grupę OLX opisują sposoby i środki identyfikacji treści lub działań Użytkowników, które są badane pod kątem\\nnaruszenia Regulaminu lub przepisów obowiązującego prawa. Głównym celem opracowanych polityk i procedur moderacyjnych jest zapewnienie bezpieczeństwa Użytkowników i zwalczanie wszelkich nadużyć.',\n",
       "   'section': 'Bezprawne i niezgodne z Regulaminem działania Użytkowników',\n",
       "   'question': 'Grupa OLX podejmuje decyzje o blokadzie lub zawieszeniu treści lub Konta w oparciu o wewnętrzne polityki oraz procedury moderacyjne.'},\n",
       "  {'text': 'Zautomatyzowane lub częściowo zautomatyzowane narzędzia umożliwiają identyfikację treści lub działań, które naruszają lub mogą naruszać postanowienia Regulaminu lub przepisów prawa, na podstawie analizy treści Ogłoszenia lub aktywności Użytkowników w Serwisie. Narzędzia wykorzystywane w procesie moderacji treści dostępnych w Serwisie wykorzystują rozwiązania pozwalające na analizę Treści Ogłoszeń lub działań, które mogą naruszać Regulamin lub przepisy prawa oraz zgłoszenie ich do wewnętrznych zespołów moderacyjnych',\n",
       "   'section': 'Bezprawne i niezgodne z Regulaminem działania Użytkowników',\n",
       "   'question': 'Proces identyfikacji treści lub działań Użytkowników może opierać się na zautomatyzowanych lub częściowo zautomatyzowanych narzędziach moderacyjnych.'},\n",
       "  {'text': 'Pozostałe decyzje związane z treściami lub działaniami Użytkowników podlegają ocenie prowadzonej przez zespoły moderacyjne Grupy OLX. Działania związane z treścią lub działaniami Użytkowników, które naruszają lub mogą naruszać postanowienia Regulaminu lub przepisów obowiązującego prawa są również podejmowane w związku ze zgłoszeniami przesyłanymi przez innych Użytkowników, organy lub organizacje zajmujące się bezpieczeństwem Użytkowników w internecie lub zwalczaniem nielegalnych treści.',\n",
       "   'section': 'Bezprawne i niezgodne z Regulaminem działania Użytkowników',\n",
       "   'question': 'Grupy OLX. Decyzje związane z naruszeniem Postanowień Regulaminu opisanych w punkcie 3 (Konta) lub działań związanych z naruszeniem bezpieczeństwa Serwisu lub Użytkowników mogą być podejmowane w sposób całkowicie zautomatyzowany.'}]}"
      ]
     },
     "execution_count": 6,
     "metadata": {},
     "output_type": "execute_result"
    }
   ],
   "source": [
    "documents[1]"
   ]
  },
  {
   "cell_type": "code",
   "execution_count": 7,
   "id": "06b8d8be-f656-4cc3-893f-b159be8fda21",
   "metadata": {},
   "outputs": [],
   "source": [
    "import json"
   ]
  },
  {
   "cell_type": "code",
   "execution_count": 10,
   "id": "30d50bc1-8d26-44ee-8734-cafce05e0523",
   "metadata": {},
   "outputs": [],
   "source": [
    "with open('../data/documents_olx_2024_08_25.json', 'wt',  encoding='utf8') as f_out:\n",
    "    json.dump(documents, f_out, indent=2, ensure_ascii=False)"
   ]
  },
  {
   "cell_type": "code",
   "execution_count": 11,
   "id": "0eabb1c6-5cc6-4d4d-a6da-e27d41cea546",
   "metadata": {},
   "outputs": [
    {
     "name": "stdout",
     "output_type": "stream",
     "text": [
      "[\n",
      "  {\n",
      "    \"course\": \"olx-qa\",\n",
      "    \"documents\": [\n",
      "      {\n",
      "        \"text\": \"Krok 1. Załóż konto na OLX poprzez:\\nstronę internetową OLX — kliknij Twoje konto → Załóż konto lub kliknij tutaj.\\naplikację mobilną OLX — kliknij Konto → Zaloguj się → Załóż konto.\\nJeśli grafika jest nieczytelna, kliknij prawy przycisk myszy i wybierz „Otwórz grafikę w nowej karcie\\\".\\nKrok 2. Wpisz swój adres e-mail.\\nKrok 3. Wpisz hasło, które ma minimum 8 znaków, w tym przynajmniej jedną dużą i małą literę, jedną cyfrę oraz znak specjalny.\\nKrok 4. Kliknij Zarejestruj się.\\nKrok 5. Przejdź do skrzynki mailowej i w wiadomości od OLX kliknij przycisk Aktywuj konto.\\nJeśli nie masz linku aktywacyjnego — napisz do nas.\\nNa jednym koncie OLX nie można sprzedawać przedmiotów prywatnych i przedmiotów w ramach prowadzenia firmy. Do każdego typu sprzedaży (prywatnie, jako firma) wymagane jest oddzielne konto.\\nKonto na OLX możesz założyć za pomocą konta na Facebooku. Wystarczy, że klikniesz tutaj. Następnie wybierz przycisk Kontynuuj z Facebook i postępuj zgodnie z wyświetlanymi wskazówkami. W ten sposób utworzymy konto w OLX na adresie e-mail powiązanym z Twoim kontem Facebook. Przed wyborem „Kontynuuj z Facebookiem\\\" sprawdź, czy jesteś zalogowany/zalogowana na danym urządzeniu do konta Facebook.\",\n",
      "        \"section\": \"Konto\",\n",
      "        \"question\": \"Jak założyć konto?\"\n",
      "      },\n",
      "      {\n"
     ]
    }
   ],
   "source": [
    "!head ../data/documents_olx_2024_08_25.json"
   ]
  },
  {
   "cell_type": "code",
   "execution_count": null,
   "id": "1b21af5c-2f6d-49e7-92e9-ca229e2473b9",
   "metadata": {},
   "outputs": [],
   "source": []
  }
 ],
 "metadata": {
  "kernelspec": {
   "display_name": "Python 3 (ipykernel)",
   "language": "python",
   "name": "python3"
  },
  "language_info": {
   "codemirror_mode": {
    "name": "ipython",
    "version": 3
   },
   "file_extension": ".py",
   "mimetype": "text/x-python",
   "name": "python",
   "nbconvert_exporter": "python",
   "pygments_lexer": "ipython3",
   "version": "3.10.14"
  }
 },
 "nbformat": 4,
 "nbformat_minor": 5
}
